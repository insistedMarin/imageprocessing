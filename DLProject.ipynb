{
  "cells": [
    {
      "cell_type": "markdown",
      "metadata": {
        "id": "view-in-github",
        "colab_type": "text"
      },
      "source": [
        "<a href=\"https://colab.research.google.com/github/insistedMarin/imageprocessing/blob/master/DLProject.ipynb\" target=\"_parent\"><img src=\"https://colab.research.google.com/assets/colab-badge.svg\" alt=\"Open In Colab\"/></a>"
      ]
    },
    {
      "cell_type": "code",
      "execution_count": 24,
      "metadata": {
        "id": "KnF0V5Sxw9cs",
        "colab": {
          "base_uri": "https://localhost:8080/"
        },
        "outputId": "6ff6deb8-a1de-4816-f66c-6e97d07e0923"
      },
      "outputs": [
        {
          "output_type": "stream",
          "name": "stdout",
          "text": [
            "Drive already mounted at /content/drive; to attempt to forcibly remount, call drive.mount(\"/content/drive\", force_remount=True).\n"
          ]
        }
      ],
      "source": [
        "\n",
        "from google.colab import drive\n",
        "drive.mount('/content/drive')\n",
        "\n"
      ]
    },
    {
      "cell_type": "code",
      "execution_count": 5,
      "metadata": {
        "colab": {
          "base_uri": "https://localhost:8080/"
        },
        "id": "KwLozrmaJaUu",
        "outputId": "a84c25c6-1377-4562-d7ef-e0ca5a5c6b28"
      },
      "outputs": [
        {
          "output_type": "stream",
          "name": "stdout",
          "text": [
            "/content/drive/MyDrive/deeplearning\n"
          ]
        }
      ],
      "source": [
        "%cd drive/MyDrive/deeplearning"
      ]
    },
    {
      "cell_type": "code",
      "execution_count": 50,
      "metadata": {
        "colab": {
          "base_uri": "https://localhost:8080/"
        },
        "id": "7ah_GTzhxRF-",
        "outputId": "e6b131a9-8700-417a-9140-e365be19dcfd"
      },
      "outputs": [
        {
          "output_type": "stream",
          "name": "stdout",
          "text": [
            "Sat Dec  3 12:10:10 2022       \n",
            "+-----------------------------------------------------------------------------+\n",
            "| NVIDIA-SMI 460.32.03    Driver Version: 460.32.03    CUDA Version: 11.2     |\n",
            "|-------------------------------+----------------------+----------------------+\n",
            "| GPU  Name        Persistence-M| Bus-Id        Disp.A | Volatile Uncorr. ECC |\n",
            "| Fan  Temp  Perf  Pwr:Usage/Cap|         Memory-Usage | GPU-Util  Compute M. |\n",
            "|                               |                      |               MIG M. |\n",
            "|===============================+======================+======================|\n",
            "|   0  Tesla T4            Off  | 00000000:00:04.0 Off |                    0 |\n",
            "| N/A   75C    P0    31W /  70W |   5026MiB / 15109MiB |      0%      Default |\n",
            "|                               |                      |                  N/A |\n",
            "+-------------------------------+----------------------+----------------------+\n",
            "                                                                               \n",
            "+-----------------------------------------------------------------------------+\n",
            "| Processes:                                                                  |\n",
            "|  GPU   GI   CI        PID   Type   Process name                  GPU Memory |\n",
            "|        ID   ID                                                   Usage      |\n",
            "|=============================================================================|\n",
            "+-----------------------------------------------------------------------------+\n"
          ]
        }
      ],
      "source": [
        "!nvidia-smi"
      ]
    },
    {
      "cell_type": "code",
      "execution_count": null,
      "metadata": {
        "colab": {
          "base_uri": "https://localhost:8080/"
        },
        "id": "1JyDSzyboBw-",
        "outputId": "3ad6eb6c-0539-4a16-b1a4-27c86db9455f"
      },
      "outputs": [
        {
          "name": "stdout",
          "output_type": "stream",
          "text": [
            "Looking in indexes: https://pypi.org/simple, https://us-python.pkg.dev/colab-wheels/public/simple/, https://download.pytorch.org/whl/cu116\n",
            "Requirement already satisfied: torch in /usr/local/lib/python3.7/dist-packages (1.12.1+cu113)\n",
            "Requirement already satisfied: torchvision in /usr/local/lib/python3.7/dist-packages (0.13.1+cu113)\n",
            "Requirement already satisfied: torchaudio in /usr/local/lib/python3.7/dist-packages (0.12.1+cu113)\n",
            "Requirement already satisfied: typing-extensions in /usr/local/lib/python3.7/dist-packages (from torch) (4.1.1)\n",
            "Requirement already satisfied: pillow!=8.3.*,>=5.3.0 in /usr/local/lib/python3.7/dist-packages (from torchvision) (7.1.2)\n",
            "Requirement already satisfied: requests in /usr/local/lib/python3.7/dist-packages (from torchvision) (2.23.0)\n",
            "Requirement already satisfied: numpy in /usr/local/lib/python3.7/dist-packages (from torchvision) (1.21.6)\n",
            "Requirement already satisfied: urllib3!=1.25.0,!=1.25.1,<1.26,>=1.21.1 in /usr/local/lib/python3.7/dist-packages (from requests->torchvision) (1.24.3)\n",
            "Requirement already satisfied: idna<3,>=2.5 in /usr/local/lib/python3.7/dist-packages (from requests->torchvision) (2.10)\n",
            "Requirement already satisfied: chardet<4,>=3.0.2 in /usr/local/lib/python3.7/dist-packages (from requests->torchvision) (3.0.4)\n",
            "Requirement already satisfied: certifi>=2017.4.17 in /usr/local/lib/python3.7/dist-packages (from requests->torchvision) (2022.9.24)\n"
          ]
        }
      ],
      "source": [
        "!pip3 install torch torchvision torchaudio --extra-index-url https://download.pytorch.org/whl/cu116"
      ]
    },
    {
      "cell_type": "code",
      "execution_count": null,
      "metadata": {
        "id": "5n515803pFjs"
      },
      "outputs": [],
      "source": [
        "!git clone https://github.com/ultralytics/yolov5"
      ]
    },
    {
      "cell_type": "markdown",
      "source": [
        "从github加载yolov5模型"
      ],
      "metadata": {
        "id": "kNbeOWiN97h0"
      }
    },
    {
      "cell_type": "code",
      "execution_count": 52,
      "metadata": {
        "colab": {
          "base_uri": "https://localhost:8080/"
        },
        "id": "AliihXC9pRzo",
        "outputId": "7174c422-f4ae-4269-8e5d-75bd6ba01eff"
      },
      "outputs": [
        {
          "output_type": "stream",
          "name": "stdout",
          "text": [
            "/content/drive/MyDrive/deeplearning/yolov5/runs\n"
          ]
        }
      ],
      "source": [
        "%cd .."
      ]
    },
    {
      "cell_type": "code",
      "execution_count": null,
      "metadata": {
        "colab": {
          "base_uri": "https://localhost:8080/"
        },
        "id": "LiXK2X6CpbGE",
        "outputId": "c4b65278-53cb-4ba1-ff60-54b2d5915314"
      },
      "outputs": [
        {
          "name": "stdout",
          "output_type": "stream",
          "text": [
            "Looking in indexes: https://pypi.org/simple, https://us-python.pkg.dev/colab-wheels/public/simple/\n",
            "Requirement already satisfied: ipython in /usr/local/lib/python3.7/dist-packages (from -r requirements.txt (line 5)) (7.9.0)\n",
            "Requirement already satisfied: matplotlib>=3.2.2 in /usr/local/lib/python3.7/dist-packages (from -r requirements.txt (line 6)) (3.2.2)\n",
            "Requirement already satisfied: numpy>=1.18.5 in /usr/local/lib/python3.7/dist-packages (from -r requirements.txt (line 7)) (1.21.6)\n",
            "Requirement already satisfied: opencv-python>=4.1.1 in /usr/local/lib/python3.7/dist-packages (from -r requirements.txt (line 8)) (4.6.0.66)\n",
            "Requirement already satisfied: Pillow>=7.1.2 in /usr/local/lib/python3.7/dist-packages (from -r requirements.txt (line 9)) (7.1.2)\n",
            "Requirement already satisfied: psutil in /usr/local/lib/python3.7/dist-packages (from -r requirements.txt (line 10)) (5.4.8)\n",
            "Requirement already satisfied: PyYAML>=5.3.1 in /usr/local/lib/python3.7/dist-packages (from -r requirements.txt (line 11)) (6.0)\n",
            "Requirement already satisfied: requests>=2.23.0 in /usr/local/lib/python3.7/dist-packages (from -r requirements.txt (line 12)) (2.23.0)\n",
            "Requirement already satisfied: scipy>=1.4.1 in /usr/local/lib/python3.7/dist-packages (from -r requirements.txt (line 13)) (1.7.3)\n",
            "Collecting thop>=0.1.1\n",
            "  Downloading thop-0.1.1.post2209072238-py3-none-any.whl (15 kB)\n",
            "Requirement already satisfied: torch>=1.7.0 in /usr/local/lib/python3.7/dist-packages (from -r requirements.txt (line 15)) (1.12.1+cu113)\n",
            "Requirement already satisfied: torchvision>=0.8.1 in /usr/local/lib/python3.7/dist-packages (from -r requirements.txt (line 16)) (0.13.1+cu113)\n",
            "Requirement already satisfied: tqdm>=4.64.0 in /usr/local/lib/python3.7/dist-packages (from -r requirements.txt (line 17)) (4.64.1)\n",
            "Requirement already satisfied: tensorboard>=2.4.1 in /usr/local/lib/python3.7/dist-packages (from -r requirements.txt (line 21)) (2.9.1)\n",
            "Requirement already satisfied: pandas>=1.1.4 in /usr/local/lib/python3.7/dist-packages (from -r requirements.txt (line 26)) (1.3.5)\n",
            "Requirement already satisfied: seaborn>=0.11.0 in /usr/local/lib/python3.7/dist-packages (from -r requirements.txt (line 27)) (0.11.2)\n",
            "Requirement already satisfied: python-dateutil>=2.1 in /usr/local/lib/python3.7/dist-packages (from matplotlib>=3.2.2->-r requirements.txt (line 6)) (2.8.2)\n",
            "Requirement already satisfied: cycler>=0.10 in /usr/local/lib/python3.7/dist-packages (from matplotlib>=3.2.2->-r requirements.txt (line 6)) (0.11.0)\n",
            "Requirement already satisfied: pyparsing!=2.0.4,!=2.1.2,!=2.1.6,>=2.0.1 in /usr/local/lib/python3.7/dist-packages (from matplotlib>=3.2.2->-r requirements.txt (line 6)) (3.0.9)\n",
            "Requirement already satisfied: kiwisolver>=1.0.1 in /usr/local/lib/python3.7/dist-packages (from matplotlib>=3.2.2->-r requirements.txt (line 6)) (1.4.4)\n",
            "Requirement already satisfied: certifi>=2017.4.17 in /usr/local/lib/python3.7/dist-packages (from requests>=2.23.0->-r requirements.txt (line 12)) (2022.9.24)\n",
            "Requirement already satisfied: idna<3,>=2.5 in /usr/local/lib/python3.7/dist-packages (from requests>=2.23.0->-r requirements.txt (line 12)) (2.10)\n",
            "Requirement already satisfied: chardet<4,>=3.0.2 in /usr/local/lib/python3.7/dist-packages (from requests>=2.23.0->-r requirements.txt (line 12)) (3.0.4)\n",
            "Requirement already satisfied: urllib3!=1.25.0,!=1.25.1,<1.26,>=1.21.1 in /usr/local/lib/python3.7/dist-packages (from requests>=2.23.0->-r requirements.txt (line 12)) (1.24.3)\n",
            "Requirement already satisfied: typing-extensions in /usr/local/lib/python3.7/dist-packages (from torch>=1.7.0->-r requirements.txt (line 15)) (4.1.1)\n",
            "Requirement already satisfied: protobuf<3.20,>=3.9.2 in /usr/local/lib/python3.7/dist-packages (from tensorboard>=2.4.1->-r requirements.txt (line 21)) (3.19.6)\n",
            "Requirement already satisfied: werkzeug>=1.0.1 in /usr/local/lib/python3.7/dist-packages (from tensorboard>=2.4.1->-r requirements.txt (line 21)) (1.0.1)\n",
            "Requirement already satisfied: markdown>=2.6.8 in /usr/local/lib/python3.7/dist-packages (from tensorboard>=2.4.1->-r requirements.txt (line 21)) (3.4.1)\n",
            "Requirement already satisfied: setuptools>=41.0.0 in /usr/local/lib/python3.7/dist-packages (from tensorboard>=2.4.1->-r requirements.txt (line 21)) (57.4.0)\n",
            "Requirement already satisfied: google-auth-oauthlib<0.5,>=0.4.1 in /usr/local/lib/python3.7/dist-packages (from tensorboard>=2.4.1->-r requirements.txt (line 21)) (0.4.6)\n",
            "Requirement already satisfied: tensorboard-data-server<0.7.0,>=0.6.0 in /usr/local/lib/python3.7/dist-packages (from tensorboard>=2.4.1->-r requirements.txt (line 21)) (0.6.1)\n",
            "Requirement already satisfied: google-auth<3,>=1.6.3 in /usr/local/lib/python3.7/dist-packages (from tensorboard>=2.4.1->-r requirements.txt (line 21)) (2.14.1)\n",
            "Requirement already satisfied: grpcio>=1.24.3 in /usr/local/lib/python3.7/dist-packages (from tensorboard>=2.4.1->-r requirements.txt (line 21)) (1.50.0)\n",
            "Requirement already satisfied: absl-py>=0.4 in /usr/local/lib/python3.7/dist-packages (from tensorboard>=2.4.1->-r requirements.txt (line 21)) (1.3.0)\n",
            "Requirement already satisfied: tensorboard-plugin-wit>=1.6.0 in /usr/local/lib/python3.7/dist-packages (from tensorboard>=2.4.1->-r requirements.txt (line 21)) (1.8.1)\n",
            "Requirement already satisfied: wheel>=0.26 in /usr/local/lib/python3.7/dist-packages (from tensorboard>=2.4.1->-r requirements.txt (line 21)) (0.38.3)\n",
            "Requirement already satisfied: pytz>=2017.3 in /usr/local/lib/python3.7/dist-packages (from pandas>=1.1.4->-r requirements.txt (line 26)) (2022.6)\n",
            "Requirement already satisfied: pyasn1-modules>=0.2.1 in /usr/local/lib/python3.7/dist-packages (from google-auth<3,>=1.6.3->tensorboard>=2.4.1->-r requirements.txt (line 21)) (0.2.8)\n",
            "Requirement already satisfied: cachetools<6.0,>=2.0.0 in /usr/local/lib/python3.7/dist-packages (from google-auth<3,>=1.6.3->tensorboard>=2.4.1->-r requirements.txt (line 21)) (5.2.0)\n",
            "Requirement already satisfied: rsa<5,>=3.1.4 in /usr/local/lib/python3.7/dist-packages (from google-auth<3,>=1.6.3->tensorboard>=2.4.1->-r requirements.txt (line 21)) (4.9)\n",
            "Requirement already satisfied: six>=1.9.0 in /usr/local/lib/python3.7/dist-packages (from google-auth<3,>=1.6.3->tensorboard>=2.4.1->-r requirements.txt (line 21)) (1.15.0)\n",
            "Requirement already satisfied: requests-oauthlib>=0.7.0 in /usr/local/lib/python3.7/dist-packages (from google-auth-oauthlib<0.5,>=0.4.1->tensorboard>=2.4.1->-r requirements.txt (line 21)) (1.3.1)\n",
            "Requirement already satisfied: importlib-metadata>=4.4 in /usr/local/lib/python3.7/dist-packages (from markdown>=2.6.8->tensorboard>=2.4.1->-r requirements.txt (line 21)) (4.13.0)\n",
            "Requirement already satisfied: zipp>=0.5 in /usr/local/lib/python3.7/dist-packages (from importlib-metadata>=4.4->markdown>=2.6.8->tensorboard>=2.4.1->-r requirements.txt (line 21)) (3.10.0)\n",
            "Requirement already satisfied: pyasn1<0.5.0,>=0.4.6 in /usr/local/lib/python3.7/dist-packages (from pyasn1-modules>=0.2.1->google-auth<3,>=1.6.3->tensorboard>=2.4.1->-r requirements.txt (line 21)) (0.4.8)\n",
            "Requirement already satisfied: oauthlib>=3.0.0 in /usr/local/lib/python3.7/dist-packages (from requests-oauthlib>=0.7.0->google-auth-oauthlib<0.5,>=0.4.1->tensorboard>=2.4.1->-r requirements.txt (line 21)) (3.2.2)\n",
            "Requirement already satisfied: prompt-toolkit<2.1.0,>=2.0.0 in /usr/local/lib/python3.7/dist-packages (from ipython->-r requirements.txt (line 5)) (2.0.10)\n",
            "Requirement already satisfied: pexpect in /usr/local/lib/python3.7/dist-packages (from ipython->-r requirements.txt (line 5)) (4.8.0)\n",
            "Requirement already satisfied: pygments in /usr/local/lib/python3.7/dist-packages (from ipython->-r requirements.txt (line 5)) (2.6.1)\n",
            "Requirement already satisfied: traitlets>=4.2 in /usr/local/lib/python3.7/dist-packages (from ipython->-r requirements.txt (line 5)) (5.1.1)\n",
            "Requirement already satisfied: pickleshare in /usr/local/lib/python3.7/dist-packages (from ipython->-r requirements.txt (line 5)) (0.7.5)\n",
            "Requirement already satisfied: decorator in /usr/local/lib/python3.7/dist-packages (from ipython->-r requirements.txt (line 5)) (4.4.2)\n",
            "Collecting jedi>=0.10\n",
            "  Downloading jedi-0.18.1-py2.py3-none-any.whl (1.6 MB)\n",
            "\u001b[K     |████████████████████████████████| 1.6 MB 41.5 MB/s \n",
            "\u001b[?25hRequirement already satisfied: backcall in /usr/local/lib/python3.7/dist-packages (from ipython->-r requirements.txt (line 5)) (0.2.0)\n",
            "Requirement already satisfied: parso<0.9.0,>=0.8.0 in /usr/local/lib/python3.7/dist-packages (from jedi>=0.10->ipython->-r requirements.txt (line 5)) (0.8.3)\n",
            "Requirement already satisfied: wcwidth in /usr/local/lib/python3.7/dist-packages (from prompt-toolkit<2.1.0,>=2.0.0->ipython->-r requirements.txt (line 5)) (0.2.5)\n",
            "Requirement already satisfied: ptyprocess>=0.5 in /usr/local/lib/python3.7/dist-packages (from pexpect->ipython->-r requirements.txt (line 5)) (0.7.0)\n",
            "Installing collected packages: jedi, thop\n",
            "Successfully installed jedi-0.18.1 thop-0.1.1.post2209072238\n"
          ]
        }
      ],
      "source": [
        "!pip install -r requirements.txt"
      ]
    },
    {
      "cell_type": "markdown",
      "source": [
        "初始化配置"
      ],
      "metadata": {
        "id": "d4kfwzO6-G8i"
      }
    },
    {
      "cell_type": "code",
      "execution_count": null,
      "metadata": {
        "colab": {
          "base_uri": "https://localhost:8080/"
        },
        "id": "ht5qSjAqsUcb",
        "outputId": "02554bc4-2fd1-443a-c57a-f3952119e0d2"
      },
      "outputs": [
        {
          "name": "stdout",
          "output_type": "stream",
          "text": [
            "/content/drive/MyDrive/deeplearning/yolov5\n"
          ]
        }
      ],
      "source": [
        "%cd content/drive/MyDrive/deeplearning/yolov5"
      ]
    },
    {
      "cell_type": "code",
      "execution_count": null,
      "metadata": {
        "id": "1KrWScJDriks"
      },
      "outputs": [],
      "source": [
        "# import os\n",
        "# import cv2\n",
        "# import numpy as np\n",
        "# array_of_img = []\n",
        "# def read_directory(directory_name):\n",
        "#     for filename in os.listdir(r\"./\" + directory_name):\n",
        "#         img = cv2.imread(directory_name + \"/\" + filename)\n",
        "#         array_of_img.append(img)\n",
        "\n",
        "#     return array_of_img\n",
        "\n",
        "# data = read_directory(\"runs/detect/exp2/crops/leaves\")"
      ]
    },
    {
      "cell_type": "code",
      "execution_count": null,
      "metadata": {
        "colab": {
          "base_uri": "https://localhost:8080/"
        },
        "id": "y7wqCC7dp3ck",
        "outputId": "755a03b9-360c-4eb5-9e0f-2517e303fc73"
      },
      "outputs": [
        {
          "name": "stdout",
          "output_type": "stream",
          "text": [
            "Setup complete. Using torch 1.12.1+cu113 (Tesla T4)\n"
          ]
        }
      ],
      "source": [
        "import torch\n",
        "import os\n",
        "from IPython.display import Image, clear_output  # to display images\n",
        "\n",
        "print(f\"Setup complete. Using torch {torch.__version__} ({torch.cuda.get_device_properties(0).name if torch.cuda.is_available() else 'CPU'})\")"
      ]
    },
    {
      "cell_type": "markdown",
      "source": [
        "加载pytorch"
      ],
      "metadata": {
        "id": "jHgB-Yxy-M4T"
      }
    },
    {
      "cell_type": "code",
      "execution_count": 53,
      "metadata": {
        "colab": {
          "base_uri": "https://localhost:8080/",
          "height": 1000
        },
        "id": "kKfWZqZjbIbU",
        "outputId": "0276b8b2-02f6-471f-9f2a-780ddcb2de9e"
      },
      "outputs": [
        {
          "output_type": "stream",
          "name": "stdout",
          "text": [
            "Looking in indexes: https://pypi.org/simple, https://us-python.pkg.dev/colab-wheels/public/simple/\n",
            "Collecting roboflow\n",
            "  Downloading roboflow-0.2.21-py3-none-any.whl (42 kB)\n",
            "\u001b[K     |████████████████████████████████| 42 kB 850 kB/s \n",
            "\u001b[?25hCollecting chardet==4.0.0\n",
            "  Downloading chardet-4.0.0-py2.py3-none-any.whl (178 kB)\n",
            "\u001b[K     |████████████████████████████████| 178 kB 58.7 MB/s \n",
            "\u001b[?25hCollecting cycler==0.10.0\n",
            "  Downloading cycler-0.10.0-py2.py3-none-any.whl (6.5 kB)\n",
            "Collecting certifi==2021.5.30\n",
            "  Downloading certifi-2021.5.30-py2.py3-none-any.whl (145 kB)\n",
            "\u001b[K     |████████████████████████████████| 145 kB 66.6 MB/s \n",
            "\u001b[?25hRequirement already satisfied: PyYAML>=5.3.1 in /usr/local/lib/python3.8/dist-packages (from roboflow) (6.0)\n",
            "Requirement already satisfied: idna==2.10 in /usr/local/lib/python3.8/dist-packages (from roboflow) (2.10)\n",
            "Requirement already satisfied: opencv-python-headless>=4.5.1.48 in /usr/local/lib/python3.8/dist-packages (from roboflow) (4.6.0.66)\n",
            "Requirement already satisfied: matplotlib in /usr/local/lib/python3.8/dist-packages (from roboflow) (3.2.2)\n",
            "Requirement already satisfied: six in /usr/local/lib/python3.8/dist-packages (from roboflow) (1.15.0)\n",
            "Requirement already satisfied: kiwisolver>=1.3.1 in /usr/local/lib/python3.8/dist-packages (from roboflow) (1.4.4)\n",
            "Requirement already satisfied: requests in /usr/local/lib/python3.8/dist-packages (from roboflow) (2.23.0)\n",
            "Collecting urllib3==1.26.6\n",
            "  Downloading urllib3-1.26.6-py2.py3-none-any.whl (138 kB)\n",
            "\u001b[K     |████████████████████████████████| 138 kB 67.9 MB/s \n",
            "\u001b[?25hRequirement already satisfied: numpy>=1.18.5 in /usr/local/lib/python3.8/dist-packages (from roboflow) (1.21.6)\n",
            "Requirement already satisfied: tqdm>=4.41.0 in /usr/local/lib/python3.8/dist-packages (from roboflow) (4.64.1)\n",
            "Requirement already satisfied: Pillow>=7.1.2 in /usr/local/lib/python3.8/dist-packages (from roboflow) (7.1.2)\n",
            "Collecting pyparsing==2.4.7\n",
            "  Downloading pyparsing-2.4.7-py2.py3-none-any.whl (67 kB)\n",
            "\u001b[K     |████████████████████████████████| 67 kB 6.4 MB/s \n",
            "\u001b[?25hCollecting wget\n",
            "  Downloading wget-3.2.zip (10 kB)\n",
            "Requirement already satisfied: glob2 in /usr/local/lib/python3.8/dist-packages (from roboflow) (0.7)\n",
            "Collecting requests-toolbelt\n",
            "  Downloading requests_toolbelt-0.10.1-py2.py3-none-any.whl (54 kB)\n",
            "\u001b[K     |████████████████████████████████| 54 kB 2.9 MB/s \n",
            "\u001b[?25hCollecting python-dotenv\n",
            "  Downloading python_dotenv-0.21.0-py3-none-any.whl (18 kB)\n",
            "Requirement already satisfied: python-dateutil in /usr/local/lib/python3.8/dist-packages (from roboflow) (2.8.2)\n",
            "Collecting requests\n",
            "  Downloading requests-2.28.1-py3-none-any.whl (62 kB)\n",
            "\u001b[K     |████████████████████████████████| 62 kB 1.5 MB/s \n",
            "\u001b[?25hRequirement already satisfied: charset-normalizer<3,>=2 in /usr/local/lib/python3.8/dist-packages (from requests->roboflow) (2.1.1)\n",
            "Building wheels for collected packages: wget\n",
            "  Building wheel for wget (setup.py) ... \u001b[?25l\u001b[?25hdone\n",
            "  Created wheel for wget: filename=wget-3.2-py3-none-any.whl size=9674 sha256=e41767d2b86a2e21d41319a33e55cf9ac1da6ce0f5dd013450d4b31d81b7e7bf\n",
            "  Stored in directory: /root/.cache/pip/wheels/bd/a8/c3/3cf2c14a1837a4e04bd98631724e81f33f462d86a1d895fae0\n",
            "Successfully built wget\n",
            "Installing collected packages: urllib3, certifi, requests, pyparsing, cycler, wget, requests-toolbelt, python-dotenv, chardet, roboflow\n",
            "  Attempting uninstall: urllib3\n",
            "    Found existing installation: urllib3 1.24.3\n",
            "    Uninstalling urllib3-1.24.3:\n",
            "      Successfully uninstalled urllib3-1.24.3\n",
            "  Attempting uninstall: certifi\n",
            "    Found existing installation: certifi 2022.9.24\n",
            "    Uninstalling certifi-2022.9.24:\n",
            "      Successfully uninstalled certifi-2022.9.24\n",
            "  Attempting uninstall: requests\n",
            "    Found existing installation: requests 2.23.0\n",
            "    Uninstalling requests-2.23.0:\n",
            "      Successfully uninstalled requests-2.23.0\n",
            "  Attempting uninstall: pyparsing\n",
            "    Found existing installation: pyparsing 3.0.9\n",
            "    Uninstalling pyparsing-3.0.9:\n",
            "      Successfully uninstalled pyparsing-3.0.9\n",
            "  Attempting uninstall: cycler\n",
            "    Found existing installation: cycler 0.11.0\n",
            "    Uninstalling cycler-0.11.0:\n",
            "      Successfully uninstalled cycler-0.11.0\n",
            "  Attempting uninstall: chardet\n",
            "    Found existing installation: chardet 3.0.4\n",
            "    Uninstalling chardet-3.0.4:\n",
            "      Successfully uninstalled chardet-3.0.4\n",
            "Successfully installed certifi-2021.5.30 chardet-4.0.0 cycler-0.10.0 pyparsing-2.4.7 python-dotenv-0.21.0 requests-2.28.1 requests-toolbelt-0.10.1 roboflow-0.2.21 urllib3-1.26.6 wget-3.2\n"
          ]
        },
        {
          "output_type": "display_data",
          "data": {
            "application/vnd.colab-display-data+json": {
              "pip_warning": {
                "packages": [
                  "certifi",
                  "chardet",
                  "cycler",
                  "pyparsing",
                  "requests",
                  "urllib3"
                ]
              }
            }
          },
          "metadata": {}
        }
      ],
      "source": [
        "!pip install roboflow"
      ]
    },
    {
      "cell_type": "markdown",
      "source": [
        "加载roboflow"
      ],
      "metadata": {
        "id": "ICBVo5c--R9J"
      }
    },
    {
      "cell_type": "code",
      "execution_count": null,
      "metadata": {
        "colab": {
          "base_uri": "https://localhost:8080/"
        },
        "id": "5r4qx5poCGwu",
        "outputId": "3eb04b69-0f12-4aae-c463-eacc9b4256cf"
      },
      "outputs": [
        {
          "name": "stdout",
          "output_type": "stream",
          "text": [
            "[Errno 2] No such file or directory: 'drive/MyDrive/deeplearning'\n",
            "/content/drive/MyDrive/deeplearning\n"
          ]
        }
      ],
      "source": [
        "# %cd drive/MyDrive/deeplearning"
      ]
    },
    {
      "cell_type": "code",
      "execution_count": null,
      "metadata": {
        "colab": {
          "base_uri": "https://localhost:8080/"
        },
        "id": "nKQ2PrStbLH3",
        "outputId": "54d0a623-ed80-45ba-b46a-b2956b24b6bc"
      },
      "outputs": [
        {
          "name": "stdout",
          "output_type": "stream",
          "text": [
            "/content/drive/MyDrive/deeplearning/yolov5\n"
          ]
        }
      ],
      "source": [
        "# %cd yolov5"
      ]
    },
    {
      "cell_type": "code",
      "execution_count": 54,
      "metadata": {
        "colab": {
          "base_uri": "https://localhost:8080/"
        },
        "id": "0SWaE4LkaUj_",
        "outputId": "c55463eb-321f-4960-a9a1-30c3aefd0e61"
      },
      "outputs": [
        {
          "output_type": "stream",
          "name": "stdout",
          "text": [
            "loading Roboflow workspace...\n",
            "loading Roboflow project...\n",
            "Downloading Dataset Version Zip in DLProject-6 to yolov7pytorch: 100% [14253968 / 14253968] bytes\n"
          ]
        },
        {
          "output_type": "stream",
          "name": "stderr",
          "text": [
            "Extracting Dataset Version Zip to DLProject-6 in yolov7pytorch:: 100%|██████████| 672/672 [00:03<00:00, 175.24it/s]\n"
          ]
        }
      ],
      "source": [
        "from roboflow import Roboflow\n",
        "rf = Roboflow(api_key=\"RqXyEhSOFWfIwDNivY8c\")\n",
        "project = rf.workspace(\"cytech-lv8hq\").project(\"dlproject-egkgt\")\n",
        "dataset = project.version(6).download(\"yolov7\")\n",
        "\n"
      ]
    },
    {
      "cell_type": "markdown",
      "source": [
        "引用roboflow数据集"
      ],
      "metadata": {
        "id": "bE8pvmbJ4f9H"
      }
    },
    {
      "cell_type": "code",
      "execution_count": 56,
      "metadata": {
        "id": "qEYxoMLUkVFB"
      },
      "outputs": [],
      "source": [
        "!pip install clearml>=1.2.0"
      ]
    },
    {
      "cell_type": "code",
      "execution_count": 57,
      "metadata": {
        "colab": {
          "base_uri": "https://localhost:8080/"
        },
        "id": "IKOJOvYRR-lK",
        "outputId": "cf6d81a0-299c-42cc-b896-bb25b49f2178"
      },
      "outputs": [
        {
          "output_type": "stream",
          "name": "stdout",
          "text": [
            "env: CLEARML_WEB_HOST=https://app.clear.ml\n",
            "env: CLEARML_API_HOST=https://api.clear.ml\n",
            "env: CLEARML_FILES_HOST=https://files.clear.ml\n",
            "env: CLEARML_API_ACCESS_KEY=AFEPJA0DB83UD84PRWSJ\n",
            "env: CLEARML_API_SECRET_KEY=QiJkYScyU5sjsWQryG0lZvFUtYt0Rg93J1imHBW4Hjt4dmSmAx\n"
          ]
        }
      ],
      "source": [
        "%env CLEARML_WEB_HOST=https://app.clear.ml\n",
        "%env CLEARML_API_HOST=https://api.clear.ml\n",
        "%env CLEARML_FILES_HOST=https://files.clear.ml\n",
        "%env CLEARML_API_ACCESS_KEY=AFEPJA0DB83UD84PRWSJ\n",
        "%env CLEARML_API_SECRET_KEY=QiJkYScyU5sjsWQryG0lZvFUtYt0Rg93J1imHBW4Hjt4dmSmAx"
      ]
    },
    {
      "cell_type": "markdown",
      "source": [
        "下面init时，输入的用户名和密码，host 就用https://app.clear.ml"
      ],
      "metadata": {
        "id": "PXfoYGHE-YIo"
      }
    },
    {
      "cell_type": "code",
      "execution_count": 58,
      "metadata": {
        "colab": {
          "base_uri": "https://localhost:8080/"
        },
        "id": "vXE1E5K9SRXo",
        "outputId": "14501c9e-991e-44aa-c43f-5d5cc53b6cf7"
      },
      "outputs": [
        {
          "output_type": "stream",
          "name": "stdout",
          "text": [
            "ClearML SDK setup process\n",
            "\n",
            "Please create new clearml credentials through the settings page in your `clearml-server` web app (e.g. http://localhost:8080//settings/workspace-configuration) \n",
            "Or create a free account at https://app.clear.ml/settings/workspace-configuration\n",
            "\n",
            "In settings page, press \"Create new credentials\", then press \"Copy to clipboard\".\n",
            "\n",
            "Paste copied configuration here:\n",
            "AFEPJA0DB83UD84PRWSJ\n",
            "Could not parse credentials, please try entering them manually.\n",
            "Enter user access key: AFEPJA0DB83UD84PRWSJ\n",
            "Enter user secret: QiJkYScyU5sjsWQryG0lZvFUtYt0Rg93J1imHBW4Hjt4dmSmAx\n",
            "Detected credentials key=\"AFEPJA0DB83UD84PRWSJ\" secret=\"QiJk***\"\n",
            "\n",
            "Editing configuration file: /root/clearml.conf\n",
            "Enter the url of the clearml-server's Web service, for example: https://api.clear.ml\n",
            "\n",
            "WEB Host configured to: https://app.clear.ml\n",
            "\n",
            "ClearML Hosts configuration:\n",
            "Web App: https://app.clear.ml\n",
            "API: https://api.clear.ml\n",
            "File Store: https://files.clear.ml\n",
            "\n",
            "Verifying credentials ...\n",
            "Credentials verified!\n",
            "\n",
            "New configuration stored in /root/clearml.conf\n",
            "ClearML setup completed successfully.\n"
          ]
        }
      ],
      "source": [
        "!clearml-init"
      ]
    },
    {
      "cell_type": "code",
      "source": [
        "%cd .."
      ],
      "metadata": {
        "colab": {
          "base_uri": "https://localhost:8080/"
        },
        "id": "JBLhN21u6fNT",
        "outputId": "8dcc010e-4ea5-4606-829a-e6add91388c7"
      },
      "execution_count": 61,
      "outputs": [
        {
          "output_type": "stream",
          "name": "stdout",
          "text": [
            "/content/drive/MyDrive/deeplearning/yolov5\n"
          ]
        }
      ]
    },
    {
      "cell_type": "code",
      "execution_count": 64,
      "metadata": {
        "colab": {
          "base_uri": "https://localhost:8080/"
        },
        "id": "p4fAHlLqbabE",
        "outputId": "4b09e9f2-0859-40dc-d9c4-5a58f326eb7d"
      },
      "outputs": [
        {
          "output_type": "stream",
          "name": "stdout",
          "text": [
            "\u001b[34m\u001b[1mtrain: \u001b[0mweights=yolov5s.pt, cfg=, data=/content/drive/MyDrive/deeplearning/yolov5/runs/DLProject-6/data.yaml, hyp=data/hyps/hyp.scratch-low.yaml, epochs=300, batch_size=64, imgsz=640, rect=False, resume=False, nosave=False, noval=False, noautoanchor=False, noplots=False, evolve=None, bucket=, cache=ram, image_weights=False, device=, multi_scale=False, single_cls=False, optimizer=SGD, sync_bn=False, workers=8, project=runs/train, name=exp, exist_ok=False, quad=False, cos_lr=False, label_smoothing=0.0, patience=100, freeze=[0], save_period=-1, seed=0, local_rank=-1, entity=None, upload_dataset=False, bbox_interval=-1, artifact_alias=latest\n",
            "\u001b[34m\u001b[1mgithub: \u001b[0m⚠️ YOLOv5 is out of date by 54 commits. Use `git pull` or `git clone https://github.com/ultralytics/yolov5` to update.\n",
            "YOLOv5 🚀 v6.2-235-g75728bb Python-3.8.15 torch-1.12.1+cu113 CUDA:0 (Tesla T4, 15110MiB)\n",
            "\n",
            "\u001b[34m\u001b[1mhyperparameters: \u001b[0mlr0=0.01, lrf=0.01, momentum=0.937, weight_decay=0.0005, warmup_epochs=3.0, warmup_momentum=0.8, warmup_bias_lr=0.1, box=0.05, cls=0.5, cls_pw=1.0, obj=1.0, obj_pw=1.0, iou_t=0.2, anchor_t=4.0, fl_gamma=0.0, hsv_h=0.015, hsv_s=0.7, hsv_v=0.4, degrees=0.0, translate=0.1, scale=0.5, shear=0.0, perspective=0.0, flipud=0.0, fliplr=0.5, mosaic=1.0, mixup=0.0, copy_paste=0.0\n",
            "\u001b[34m\u001b[1mComet: \u001b[0mrun 'pip install comet_ml' to automatically track and visualize YOLOv5 🚀 runs in Comet\n",
            "\u001b[34m\u001b[1mTensorBoard: \u001b[0mStart with 'tensorboard --logdir runs/train', view at http://localhost:6006/\n",
            "2022-12-03 12:22:30.959122: W tensorflow/compiler/xla/stream_executor/platform/default/dso_loader.cc:64] Could not load dynamic library 'libnvinfer.so.7'; dlerror: libnvinfer.so.7: cannot open shared object file: No such file or directory; LD_LIBRARY_PATH: /usr/local/lib/python3.8/dist-packages/cv2/../../lib64:/usr/local/lib/python3.8/dist-packages/cv2/../../lib64:/usr/lib64-nvidia\n",
            "2022-12-03 12:22:30.959254: W tensorflow/compiler/xla/stream_executor/platform/default/dso_loader.cc:64] Could not load dynamic library 'libnvinfer_plugin.so.7'; dlerror: libnvinfer_plugin.so.7: cannot open shared object file: No such file or directory; LD_LIBRARY_PATH: /usr/local/lib/python3.8/dist-packages/cv2/../../lib64:/usr/local/lib/python3.8/dist-packages/cv2/../../lib64:/usr/lib64-nvidia\n",
            "2022-12-03 12:22:30.959276: W tensorflow/compiler/tf2tensorrt/utils/py_utils.cc:38] TF-TRT Warning: Cannot dlopen some TensorRT libraries. If you would like to use Nvidia GPU with TensorRT, please make sure the missing libraries mentioned above are installed properly.\n",
            "ClearML Task: overwriting (reusing) task id=adf80f601e0f4ad787e851e3d2e57d91\n",
            "Please fix your imports. Module tensorflow.python.training.tracking.util has been moved to tensorflow.python.checkpoint.checkpoint. The old module will be deleted in version 2.11.\n",
            "ClearML results page: https://app.clear.ml/projects/80df321cc2224a33a36ae50f5c575f16/experiments/adf80f601e0f4ad787e851e3d2e57d91/output/log\n",
            "Overriding model.yaml nc=80 with nc=5\n",
            "\n",
            "                 from  n    params  module                                  arguments                     \n",
            "  0                -1  1      3520  models.common.Conv                      [3, 32, 6, 2, 2]              \n",
            "  1                -1  1     18560  models.common.Conv                      [32, 64, 3, 2]                \n",
            "  2                -1  1     18816  models.common.C3                        [64, 64, 1]                   \n",
            "  3                -1  1     73984  models.common.Conv                      [64, 128, 3, 2]               \n",
            "  4                -1  2    115712  models.common.C3                        [128, 128, 2]                 \n",
            "  5                -1  1    295424  models.common.Conv                      [128, 256, 3, 2]              \n",
            "  6                -1  3    625152  models.common.C3                        [256, 256, 3]                 \n",
            "  7                -1  1   1180672  models.common.Conv                      [256, 512, 3, 2]              \n",
            "  8                -1  1   1182720  models.common.C3                        [512, 512, 1]                 \n",
            "  9                -1  1    656896  models.common.SPPF                      [512, 512, 5]                 \n",
            " 10                -1  1    131584  models.common.Conv                      [512, 256, 1, 1]              \n",
            " 11                -1  1         0  torch.nn.modules.upsampling.Upsample    [None, 2, 'nearest']          \n",
            " 12           [-1, 6]  1         0  models.common.Concat                    [1]                           \n",
            " 13                -1  1    361984  models.common.C3                        [512, 256, 1, False]          \n",
            " 14                -1  1     33024  models.common.Conv                      [256, 128, 1, 1]              \n",
            " 15                -1  1         0  torch.nn.modules.upsampling.Upsample    [None, 2, 'nearest']          \n",
            " 16           [-1, 4]  1         0  models.common.Concat                    [1]                           \n",
            " 17                -1  1     90880  models.common.C3                        [256, 128, 1, False]          \n",
            " 18                -1  1    147712  models.common.Conv                      [128, 128, 3, 2]              \n",
            " 19          [-1, 14]  1         0  models.common.Concat                    [1]                           \n",
            " 20                -1  1    296448  models.common.C3                        [256, 256, 1, False]          \n",
            " 21                -1  1    590336  models.common.Conv                      [256, 256, 3, 2]              \n",
            " 22          [-1, 10]  1         0  models.common.Concat                    [1]                           \n",
            " 23                -1  1   1182720  models.common.C3                        [512, 512, 1, False]          \n",
            " 24      [17, 20, 23]  1     26970  models.yolo.Detect                      [5, [[10, 13, 16, 30, 33, 23], [30, 61, 62, 45, 59, 119], [116, 90, 156, 198, 373, 326]], [128, 256, 512]]\n",
            "Model summary: 214 layers, 7033114 parameters, 7033114 gradients, 16.0 GFLOPs\n",
            "\n",
            "Transferred 343/349 items from yolov5s.pt\n",
            "\u001b[34m\u001b[1mAMP: \u001b[0mchecks passed ✅\n",
            "\u001b[34m\u001b[1moptimizer:\u001b[0m SGD(lr=0.01) with parameter groups 57 weight(decay=0.0), 60 weight(decay=0.0005), 60 bias\n",
            "\u001b[34m\u001b[1malbumentations: \u001b[0mBlur(p=0.01, blur_limit=(3, 7)), MedianBlur(p=0.01, blur_limit=(3, 7)), ToGray(p=0.01), CLAHE(p=0.01, clip_limit=(1, 4.0), tile_grid_size=(8, 8))\n",
            "\u001b[34m\u001b[1mtrain: \u001b[0mScanning '/content/drive/MyDrive/deeplearning/yolov5/DLProject-6/train/labels.cache' images and labels... 154 found, 0 missing, 0 empty, 0 corrupt: 100% 154/154 [00:00<?, ?it/s]\n",
            "\u001b[34m\u001b[1mtrain: \u001b[0mCaching images (0.2GB ram): 100% 154/154 [00:00<00:00, 158.25it/s]\n",
            "\u001b[34m\u001b[1mval: \u001b[0mScanning '/content/drive/MyDrive/deeplearning/yolov5/DLProject-6/valid/labels.cache' images and labels... 65 found, 0 missing, 0 empty, 0 corrupt: 100% 65/65 [00:00<?, ?it/s]\n",
            "\u001b[34m\u001b[1mval: \u001b[0mCaching images (0.1GB ram): 100% 65/65 [00:00<00:00, 74.60it/s]\n",
            "\n",
            "\u001b[34m\u001b[1mAutoAnchor: \u001b[0m4.22 anchors/target, 0.999 Best Possible Recall (BPR). Current anchors are a good fit to dataset ✅\n",
            "Plotting labels to runs/train/exp23/labels.jpg... \n",
            "Image sizes 640 train, 640 val\n",
            "Using 2 dataloader workers\n",
            "Logging results to \u001b[1mruns/train/exp23\u001b[0m\n",
            "Starting training for 300 epochs...\n",
            "\n",
            "      Epoch    GPU_mem   box_loss   obj_loss   cls_loss  Instances       Size\n",
            "  0% 0/3 [00:00<?, ?it/s]\n",
            "Traceback (most recent call last):\n",
            "  File \"train.py\", line 630, in <module>\n",
            "    main(opt)\n",
            "  File \"train.py\", line 524, in main\n",
            "    train(opt.hyp, opt, device, callbacks)\n",
            "  File \"train.py\", line 306, in train\n",
            "    pred = model(imgs)  # forward\n",
            "  File \"/usr/local/lib/python3.8/dist-packages/torch/nn/modules/module.py\", line 1130, in _call_impl\n",
            "    return forward_call(*input, **kwargs)\n",
            "  File \"/content/drive/MyDrive/deeplearning/yolov5/models/yolo.py\", line 209, in forward\n",
            "    return self._forward_once(x, profile, visualize)  # single-scale inference, train\n",
            "  File \"/content/drive/MyDrive/deeplearning/yolov5/models/yolo.py\", line 121, in _forward_once\n",
            "    x = m(x)  # run\n",
            "  File \"/usr/local/lib/python3.8/dist-packages/torch/nn/modules/module.py\", line 1130, in _call_impl\n",
            "    return forward_call(*input, **kwargs)\n",
            "  File \"/content/drive/MyDrive/deeplearning/yolov5/models/common.py\", line 168, in forward\n",
            "    return self.cv3(torch.cat((self.m(self.cv1(x)), self.cv2(x)), 1))\n",
            "  File \"/usr/local/lib/python3.8/dist-packages/torch/nn/modules/module.py\", line 1130, in _call_impl\n",
            "    return forward_call(*input, **kwargs)\n",
            "  File \"/content/drive/MyDrive/deeplearning/yolov5/models/common.py\", line 57, in forward\n",
            "    return self.act(self.bn(self.conv(x)))\n",
            "  File \"/usr/local/lib/python3.8/dist-packages/torch/nn/modules/module.py\", line 1130, in _call_impl\n",
            "    return forward_call(*input, **kwargs)\n",
            "  File \"/usr/local/lib/python3.8/dist-packages/torch/nn/modules/conv.py\", line 457, in forward\n",
            "    return self._conv_forward(input, self.weight, self.bias)\n",
            "  File \"/usr/local/lib/python3.8/dist-packages/torch/nn/modules/conv.py\", line 453, in _conv_forward\n",
            "    return F.conv2d(input, weight, bias, self.stride,\n",
            "RuntimeError: Unable to find a valid cuDNN algorithm to run convolution\n"
          ]
        }
      ],
      "source": [
        "!python train.py --img 640 --batch 64 --epochs 300 --data {dataset.location}/data.yaml --weights yolov5s.pt --cache"
      ]
    },
    {
      "cell_type": "markdown",
      "source": [
        "使用初始模型训练"
      ],
      "metadata": {
        "id": "2WwccdJf4mBr"
      }
    },
    {
      "cell_type": "code",
      "execution_count": 65,
      "metadata": {
        "colab": {
          "base_uri": "https://localhost:8080/"
        },
        "id": "I7bB4YTvb2ge",
        "outputId": "fe28001f-4bed-486f-f3db-7910b2c0251a"
      },
      "outputs": [
        {
          "output_type": "stream",
          "name": "stdout",
          "text": [
            "\u001b[34m\u001b[1mdetect: \u001b[0mweights=['runs/train/exp20/weights/best.pt'], source=/content/drive/MyDrive/deeplearning/yolov5/runs/DLProject-6/train/images, data=data/coco128.yaml, imgsz=[640, 640], conf_thres=0.1, iou_thres=0.45, max_det=1000, device=, view_img=False, save_txt=False, save_conf=False, save_crop=False, nosave=False, classes=None, agnostic_nms=False, augment=False, visualize=False, update=False, project=runs/detect, name=exp, exist_ok=False, line_thickness=3, hide_labels=False, hide_conf=False, half=False, dnn=False, vid_stride=1\n",
            "YOLOv5 🚀 v6.2-235-g75728bb Python-3.8.15 torch-1.12.1+cu113 CUDA:0 (Tesla T4, 15110MiB)\n",
            "\n",
            "Fusing layers... \n",
            "Model summary: 157 layers, 7023610 parameters, 0 gradients, 15.8 GFLOPs\n",
            "image 1/154 /content/drive/MyDrive/deeplearning/yolov5/runs/DLProject-6/train/images/amborella082_jpg.rf.a578264a25be6bfd33ecbf768926af19.jpg: 640x640 1 Type feuille, 4 leavess, 3 ligneuxs, 12.7ms\n",
            "image 2/154 /content/drive/MyDrive/deeplearning/yolov5/runs/DLProject-6/train/images/amborella083_jpg.rf.f74913e61936656e72307d5bb9cec8db.jpg: 640x640 1 Type feuille, 3 leavess, 1 ligneux, 1 phyllotaxie, 23.7ms\n",
            "image 3/154 /content/drive/MyDrive/deeplearning/yolov5/runs/DLProject-6/train/images/amborella085_jpg.rf.83a1ae9f1e97a6a7d19fa8b7d3e115bc.jpg: 640x640 1 Type feuille, 2 leavess, 1 ligneux, 1 phyllotaxie, 12.8ms\n",
            "image 4/154 /content/drive/MyDrive/deeplearning/yolov5/runs/DLProject-6/train/images/amborella086_jpg.rf.ad140972312cc132ddf8fd4b77e52d40.jpg: 640x640 1 Type feuille, 2 leavess, 2 ligneuxs, 2 phyllotaxies, 12.7ms\n",
            "image 5/154 /content/drive/MyDrive/deeplearning/yolov5/runs/DLProject-6/train/images/amborella088_jpg.rf.7117b2abd47f57d7c14ef32f512d1c7c.jpg: 640x640 1 Type feuille, 2 leavess, 2 ligneuxs, 1 phyllotaxie, 12.7ms\n",
            "image 6/154 /content/drive/MyDrive/deeplearning/yolov5/runs/DLProject-6/train/images/amborella089_jpg.rf.bdae34542a736dcfd0ce9cc7aed4bfe8.jpg: 640x640 1 Type feuille, 2 leavess, 1 ligneux, 1 phyllotaxie, 12.7ms\n",
            "image 7/154 /content/drive/MyDrive/deeplearning/yolov5/runs/DLProject-6/train/images/amborella090_jpg.rf.ba6b0b3d30ed2b31bdbbba87a149c1ab.jpg: 640x640 1 Type feuille, 2 leavess, 1 ligneux, 3 phyllotaxies, 12.8ms\n",
            "image 8/154 /content/drive/MyDrive/deeplearning/yolov5/runs/DLProject-6/train/images/amborella091_jpg.rf.31559bd583178cd1371deafeee23dbe0.jpg: 640x640 2 Type feuilles, 1 leaves, 2 ligneuxs, 1 phyllotaxie, 12.7ms\n",
            "image 9/154 /content/drive/MyDrive/deeplearning/yolov5/runs/DLProject-6/train/images/amborella092_jpg.rf.a7e0623f11ae8f2b47280a00a986287e.jpg: 640x640 1 Type feuille, 1 leaves, 3 ligneuxs, 1 phyllotaxie, 12.7ms\n",
            "image 10/154 /content/drive/MyDrive/deeplearning/yolov5/runs/DLProject-6/train/images/amborella094_jpg.rf.042da16e19f3b357376a35ed66b02d54.jpg: 640x640 1 Type feuille, 1 leaves, 1 ligneux, 1 phyllotaxie, 12.7ms\n",
            "image 11/154 /content/drive/MyDrive/deeplearning/yolov5/runs/DLProject-6/train/images/amborella095_jpg.rf.6af630f596a5d44cce7dac064674d89d.jpg: 640x640 1 Type feuille, 3 leavess, 1 ligneux, 1 phyllotaxie, 12.7ms\n",
            "image 12/154 /content/drive/MyDrive/deeplearning/yolov5/runs/DLProject-6/train/images/amborella098_jpg.rf.625b43b5c9b28ee194af4bffee398fc8.jpg: 640x640 1 Type feuille, 3 leavess, 1 ligneux, 1 phyllotaxie, 12.7ms\n",
            "image 13/154 /content/drive/MyDrive/deeplearning/yolov5/runs/DLProject-6/train/images/amborella099_jpg.rf.1869d007e3621b2f4c14761c7656a6e8.jpg: 640x640 1 Type feuille, 2 leavess, 2 ligneuxs, 1 phyllotaxie, 12.7ms\n",
            "image 14/154 /content/drive/MyDrive/deeplearning/yolov5/runs/DLProject-6/train/images/amborella100_jpg.rf.051e8e177d13e36c72ff8a733f85d1a7.jpg: 640x640 1 Type feuille, 3 leavess, 1 phyllotaxie, 12.7ms\n",
            "image 15/154 /content/drive/MyDrive/deeplearning/yolov5/runs/DLProject-6/train/images/castarea081_jpg.rf.bf7abe995c4d0ba0ec4feddb520c2d3a.jpg: 640x640 1 Type feuille, 3 leavess, 1 ligneux, 1 phyllotaxie, 12.7ms\n",
            "image 16/154 /content/drive/MyDrive/deeplearning/yolov5/runs/DLProject-6/train/images/castarea082_jpg.rf.3ef01ac84f230897cb3a62d096fb683e.jpg: 640x640 1 Type feuille, 3 leavess, 1 ligneux, 2 phyllotaxies, 12.7ms\n",
            "image 17/154 /content/drive/MyDrive/deeplearning/yolov5/runs/DLProject-6/train/images/castarea084_jpg.rf.57a811fd2f4e82bca95ee25f0747a581.jpg: 640x640 1 Type feuille, 3 leavess, 1 ligneux, 1 phyllotaxie, 12.7ms\n",
            "image 18/154 /content/drive/MyDrive/deeplearning/yolov5/runs/DLProject-6/train/images/castarea085_jpg.rf.e1a274a32d589f704c777e5fecc89ebf.jpg: 640x640 2 Type feuilles, 4 leavess, 1 ligneux, 1 phyllotaxie, 12.7ms\n",
            "image 19/154 /content/drive/MyDrive/deeplearning/yolov5/runs/DLProject-6/train/images/castarea086_jpg.rf.a88a98de454c28b43317fc71cb600e16.jpg: 640x640 1 Type feuille, 3 leavess, 1 ligneux, 1 phyllotaxie, 12.7ms\n",
            "image 20/154 /content/drive/MyDrive/deeplearning/yolov5/runs/DLProject-6/train/images/castarea087_jpg.rf.eba059b701cf0a594cf529190fd78829.jpg: 640x640 1 Type feuille, 3 leavess, 1 ligneux, 1 phyllotaxie, 12.7ms\n",
            "image 21/154 /content/drive/MyDrive/deeplearning/yolov5/runs/DLProject-6/train/images/castarea088_jpg.rf.938f4fdcfb64fbcf9586dc418ca38291.jpg: 640x640 1 Type feuille, 3 leavess, 2 ligneuxs, 1 phyllotaxie, 12.7ms\n",
            "image 22/154 /content/drive/MyDrive/deeplearning/yolov5/runs/DLProject-6/train/images/castarea089_jpg.rf.c97ae0df0049776618eb64a614a67bf0.jpg: 640x640 1 Type feuille, 3 leavess, 1 ligneux, 1 phyllotaxie, 12.7ms\n",
            "image 23/154 /content/drive/MyDrive/deeplearning/yolov5/runs/DLProject-6/train/images/castarea090_jpg.rf.10a657b3f9bbe17b8d4e3d45e3f14ce5.jpg: 640x640 1 Type feuille, 3 leavess, 1 ligneux, 1 phyllotaxie, 12.7ms\n",
            "image 24/154 /content/drive/MyDrive/deeplearning/yolov5/runs/DLProject-6/train/images/castarea091_jpg.rf.1de3682fd5f92a7091ef5e6c30385557.jpg: 640x640 1 Type feuille, 4 leavess, 1 ligneux, 2 phyllotaxies, 12.7ms\n",
            "image 25/154 /content/drive/MyDrive/deeplearning/yolov5/runs/DLProject-6/train/images/castarea093_jpg.rf.7e6570a76bbdf81b795795ad785332d7.jpg: 640x640 1 Type feuille, 2 leavess, 1 ligneux, 1 phyllotaxie, 12.7ms\n",
            "image 26/154 /content/drive/MyDrive/deeplearning/yolov5/runs/DLProject-6/train/images/castarea095_jpg.rf.4b6ee92a839205487b3672885d4a7423.jpg: 640x640 2 Type feuilles, 3 leavess, 1 ligneux, 1 phyllotaxie, 12.7ms\n",
            "image 27/154 /content/drive/MyDrive/deeplearning/yolov5/runs/DLProject-6/train/images/castarea096_jpg.rf.92be56f01ed860fe821aec37b5997128.jpg: 640x640 1 Type feuille, 4 leavess, 1 ligneux, 1 phyllotaxie, 12.7ms\n",
            "image 28/154 /content/drive/MyDrive/deeplearning/yolov5/runs/DLProject-6/train/images/castarea097_jpg.rf.7de06a9fe93b5c27f9c129d5fdda25a1.jpg: 640x640 1 Type feuille, 3 leavess, 2 ligneuxs, 1 phyllotaxie, 12.7ms\n",
            "image 29/154 /content/drive/MyDrive/deeplearning/yolov5/runs/DLProject-6/train/images/convolvulaceae081_jpg.rf.402deb758884b8f3e169352f20c03b47.jpg: 640x640 1 Type feuille, 3 leavess, 1 ligneux, 2 phyllotaxies, 12.7ms\n",
            "image 30/154 /content/drive/MyDrive/deeplearning/yolov5/runs/DLProject-6/train/images/convolvulaceae082_jpg.rf.2bc6727bab355c07f9cac4eababc3ecb.jpg: 640x640 2 Type feuilles, 3 leavess, 1 ligneux, 1 phyllotaxie, 12.7ms\n",
            "image 31/154 /content/drive/MyDrive/deeplearning/yolov5/runs/DLProject-6/train/images/convolvulaceae083_jpg.rf.b2cc86ea877052f490bfec2d0cc51bcd.jpg: 640x640 4 Type feuilles, 2 leavess, 12.8ms\n",
            "image 32/154 /content/drive/MyDrive/deeplearning/yolov5/runs/DLProject-6/train/images/convolvulaceae085_jpg.rf.ffe835375de455dc87334cf3e03c13e7.jpg: 640x640 1 Type feuille, 2 leavess, 2 ligneuxs, 1 phyllotaxie, 12.7ms\n",
            "image 33/154 /content/drive/MyDrive/deeplearning/yolov5/runs/DLProject-6/train/images/convolvulaceae088_jpg.rf.a61f1c15fa7991d983a1d897907ad4e0.jpg: 640x640 1 Type feuille, 1 leaves, 1 ligneux, 1 phyllotaxie, 12.7ms\n",
            "image 34/154 /content/drive/MyDrive/deeplearning/yolov5/runs/DLProject-6/train/images/convolvulaceae089_jpg.rf.b12fcf5b04df7caa2a8a017661548e3b.jpg: 640x640 1 Type feuille, 2 leavess, 1 ligneux, 2 phyllotaxies, 12.8ms\n",
            "image 35/154 /content/drive/MyDrive/deeplearning/yolov5/runs/DLProject-6/train/images/convolvulaceae090_jpg.rf.1d89f0081a35f64c1d6858e239ecfc0b.jpg: 640x640 2 Type feuilles, 3 leavess, 2 ligneuxs, 1 phyllotaxie, 12.7ms\n",
            "image 36/154 /content/drive/MyDrive/deeplearning/yolov5/runs/DLProject-6/train/images/convolvulaceae092_jpg.rf.44bb7453e0d6a7d052fb522bcd68f132.jpg: 640x640 1 Type feuille, 2 leavess, 1 ligneux, 1 phyllotaxie, 12.7ms\n",
            "image 37/154 /content/drive/MyDrive/deeplearning/yolov5/runs/DLProject-6/train/images/convolvulaceae093_jpg.rf.bdd932412ec3ce61e90ec3e01318164b.jpg: 640x640 1 Type feuille, 3 leavess, 1 ligneux, 1 phyllotaxie, 12.7ms\n",
            "image 38/154 /content/drive/MyDrive/deeplearning/yolov5/runs/DLProject-6/train/images/convolvulaceae095_jpg.rf.1a052f22102d023ae53a25d3e57add87.jpg: 640x640 1 Type feuille, 3 leavess, 1 ligneux, 2 phyllotaxies, 12.7ms\n",
            "image 39/154 /content/drive/MyDrive/deeplearning/yolov5/runs/DLProject-6/train/images/convolvulaceae096_jpg.rf.f3d99c55f1c97d2709e663118070b377.jpg: 640x640 1 Type feuille, 2 leavess, 1 ligneux, 1 phyllotaxie, 12.7ms\n",
            "image 40/154 /content/drive/MyDrive/deeplearning/yolov5/runs/DLProject-6/train/images/convolvulaceae097_jpg.rf.42fd24a0fadd95308853fa412f37719f.jpg: 640x640 1 Type feuille, 3 leavess, 2 ligneuxs, 1 phyllotaxie, 12.7ms\n",
            "image 41/154 /content/drive/MyDrive/deeplearning/yolov5/runs/DLProject-6/train/images/convolvulaceae098_jpg.rf.9d1e95a1f2bd0950845a18a75ec4afd3.jpg: 640x640 2 Type feuilles, 3 leavess, 1 ligneux, 1 phyllotaxie, 12.7ms\n",
            "image 42/154 /content/drive/MyDrive/deeplearning/yolov5/runs/DLProject-6/train/images/convolvulaceae099_jpg.rf.074cd4fd1beabcf738157b0b14fcb521.jpg: 640x640 4 Type feuilles, 2 leavess, 1 ligneux, 12.7ms\n",
            "image 43/154 /content/drive/MyDrive/deeplearning/yolov5/runs/DLProject-6/train/images/desmodium081_jpg.rf.ab67c8d4fec295056dc62f25259d1091.jpg: 640x640 2 Type feuilles, 4 leavess, 3 ligneuxs, 2 phyllotaxies, 12.7ms\n",
            "image 44/154 /content/drive/MyDrive/deeplearning/yolov5/runs/DLProject-6/train/images/desmodium082_jpg.rf.67c655c2fa366bd54f6fece1ecb5f9fa.jpg: 640x640 1 Type feuille, 3 leavess, 1 ligneux, 1 phyllotaxie, 12.7ms\n",
            "image 45/154 /content/drive/MyDrive/deeplearning/yolov5/runs/DLProject-6/train/images/desmodium084_jpg.rf.b6270019aeaea65f51f311f6e9aff864.jpg: 640x640 1 Type feuille, 3 leavess, 1 ligneux, 1 phyllotaxie, 12.7ms\n",
            "image 46/154 /content/drive/MyDrive/deeplearning/yolov5/runs/DLProject-6/train/images/desmodium085_jpg.rf.b8218e1a3922de8ed64c652cceae4d90.jpg: 640x640 1 Type feuille, 3 leavess, 2 ligneuxs, 1 phyllotaxie, 12.8ms\n",
            "image 47/154 /content/drive/MyDrive/deeplearning/yolov5/runs/DLProject-6/train/images/desmodium086_jpg.rf.29aa60fe7ecb5438d4392c5d29e90c78.jpg: 640x640 1 Type feuille, 3 leavess, 1 ligneux, 2 phyllotaxies, 12.7ms\n",
            "image 48/154 /content/drive/MyDrive/deeplearning/yolov5/runs/DLProject-6/train/images/desmodium087_jpg.rf.1c1ff960c7238f560d11865973aebe24.jpg: 640x640 1 Type feuille, 3 leavess, 2 ligneuxs, 1 phyllotaxie, 12.7ms\n",
            "image 49/154 /content/drive/MyDrive/deeplearning/yolov5/runs/DLProject-6/train/images/desmodium088_jpg.rf.b3c8ea46174d84618ed2380aa5dc1cb0.jpg: 640x640 1 Type feuille, 5 leavess, 1 ligneux, 1 phyllotaxie, 12.7ms\n",
            "image 50/154 /content/drive/MyDrive/deeplearning/yolov5/runs/DLProject-6/train/images/desmodium089_jpg.rf.e0c2c98e9709653d523420f916b475bb.jpg: 640x640 1 Type feuille, 4 leavess, 3 ligneuxs, 1 phyllotaxie, 12.8ms\n",
            "image 51/154 /content/drive/MyDrive/deeplearning/yolov5/runs/DLProject-6/train/images/desmodium090_jpg.rf.475f55e4b4a72cec46461b0a7206b59c.jpg: 640x640 1 Type feuille, 4 leavess, 2 phyllotaxies, 12.7ms\n",
            "image 52/154 /content/drive/MyDrive/deeplearning/yolov5/runs/DLProject-6/train/images/desmodium091_jpg.rf.f37b3891f4795e6c505c6e64b88dec37.jpg: 640x640 2 Type feuilles, 2 leavess, 1 ligneux, 3 phyllotaxies, 12.7ms\n",
            "image 53/154 /content/drive/MyDrive/deeplearning/yolov5/runs/DLProject-6/train/images/desmodium093_jpg.rf.f6509367929d630356812b167a280da8.jpg: 640x640 1 Type feuille, 2 leavess, 3 ligneuxs, 1 phyllotaxie, 12.7ms\n",
            "image 54/154 /content/drive/MyDrive/deeplearning/yolov5/runs/DLProject-6/train/images/desmodium094_jpg.rf.7bab8a6a387773b1e07afabe017761f3.jpg: 640x640 1 Type feuille, 2 leavess, 1 ligneux, 1 phyllotaxie, 12.7ms\n",
            "image 55/154 /content/drive/MyDrive/deeplearning/yolov5/runs/DLProject-6/train/images/desmodium096_jpg.rf.ed540d968cf4a29d3bfa419bb2a9c904.jpg: 640x640 1 Type feuille, 3 leavess, 1 ligneux, 1 phyllotaxie, 12.7ms\n",
            "image 56/154 /content/drive/MyDrive/deeplearning/yolov5/runs/DLProject-6/train/images/desmodium099_jpg.rf.2d1d97b6543395e305b3af76109e525a.jpg: 640x640 1 Type feuille, 4 leavess, 1 ligneux, 1 phyllotaxie, 12.7ms\n",
            "image 57/154 /content/drive/MyDrive/deeplearning/yolov5/runs/DLProject-6/train/images/eugenia081_jpg.rf.cb0700427f07f1ae058e2f8eaaf5745b.jpg: 640x640 1 Type feuille, 3 leavess, 1 ligneux, 12.7ms\n",
            "image 58/154 /content/drive/MyDrive/deeplearning/yolov5/runs/DLProject-6/train/images/eugenia082_jpg.rf.7cffd092c95d927dbe767f875937118b.jpg: 640x640 2 Type feuilles, 4 leavess, 1 ligneux, 1 phyllotaxie, 12.8ms\n",
            "image 59/154 /content/drive/MyDrive/deeplearning/yolov5/runs/DLProject-6/train/images/eugenia086_jpg.rf.454e09243275707a4ec96c7f0b6dbbf8.jpg: 640x640 1 Type feuille, 3 leavess, 1 ligneux, 1 phyllotaxie, 12.8ms\n",
            "image 60/154 /content/drive/MyDrive/deeplearning/yolov5/runs/DLProject-6/train/images/eugenia088_jpg.rf.96449a24361f9aa95414827884871d3c.jpg: 640x640 1 Type feuille, 3 leavess, 1 ligneux, 1 phyllotaxie, 12.7ms\n",
            "image 61/154 /content/drive/MyDrive/deeplearning/yolov5/runs/DLProject-6/train/images/eugenia090_jpg.rf.7a22d629f187025702626c0839bb5a3f.jpg: 640x640 1 Type feuille, 3 leavess, 1 ligneux, 1 phyllotaxie, 12.7ms\n",
            "image 62/154 /content/drive/MyDrive/deeplearning/yolov5/runs/DLProject-6/train/images/eugenia091_jpg.rf.a312b776707a724e3817a121e8e82c1e.jpg: 640x640 1 Type feuille, 6 leavess, 1 ligneux, 1 phyllotaxie, 12.7ms\n",
            "image 63/154 /content/drive/MyDrive/deeplearning/yolov5/runs/DLProject-6/train/images/eugenia092_jpg.rf.f7288060ea72b364878778e39fcb0108.jpg: 640x640 2 Type feuilles, 4 leavess, 1 ligneux, 1 phyllotaxie, 12.7ms\n",
            "image 64/154 /content/drive/MyDrive/deeplearning/yolov5/runs/DLProject-6/train/images/eugenia093_jpg.rf.d1d8136dce13c1fa6b6c07cfa92dd908.jpg: 640x640 1 Type feuille, 3 leavess, 1 ligneux, 2 phyllotaxies, 12.7ms\n",
            "image 65/154 /content/drive/MyDrive/deeplearning/yolov5/runs/DLProject-6/train/images/eugenia094_jpg.rf.7bfb6cd391a70ab65b03f4f6338a32fb.jpg: 640x640 1 Type feuille, 2 leavess, 1 ligneux, 1 phyllotaxie, 12.7ms\n",
            "image 66/154 /content/drive/MyDrive/deeplearning/yolov5/runs/DLProject-6/train/images/eugenia095_jpg.rf.5eedc01f26794972d3468dabc4fc5c07.jpg: 640x640 1 Type feuille, 3 leavess, 1 ligneux, 1 phyllotaxie, 12.7ms\n",
            "image 67/154 /content/drive/MyDrive/deeplearning/yolov5/runs/DLProject-6/train/images/eugenia096_jpg.rf.a969067ebb832afbf7060ca96ea9488b.jpg: 640x640 1 Type feuille, 3 leavess, 1 ligneux, 2 phyllotaxies, 12.7ms\n",
            "image 68/154 /content/drive/MyDrive/deeplearning/yolov5/runs/DLProject-6/train/images/eugenia097_jpg.rf.136ddb891eae599d166887062d06a937.jpg: 640x640 1 Type feuille, 4 leavess, 1 ligneux, 2 phyllotaxies, 12.7ms\n",
            "image 69/154 /content/drive/MyDrive/deeplearning/yolov5/runs/DLProject-6/train/images/eugenia098_jpg.rf.538f9e5510ba9c79e23b3f49a4d745c2.jpg: 640x640 1 Type feuille, 3 leavess, 1 ligneux, 1 phyllotaxie, 12.7ms\n",
            "image 70/154 /content/drive/MyDrive/deeplearning/yolov5/runs/DLProject-6/train/images/eugenia100_jpg.rf.217097a74f70a06550f780e22c23560b.jpg: 640x640 1 Type feuille, 2 leavess, 1 ligneux, 1 phyllotaxie, 12.7ms\n",
            "image 71/154 /content/drive/MyDrive/deeplearning/yolov5/runs/DLProject-6/train/images/laurus082_jpg.rf.30638cd4a9e1f65fa7e5fb599979bb43.jpg: 640x640 1 Type feuille, 3 leavess, 1 ligneux, 1 phyllotaxie, 12.7ms\n",
            "image 72/154 /content/drive/MyDrive/deeplearning/yolov5/runs/DLProject-6/train/images/laurus083_jpg.rf.a7bd4f54bf02a1bc16a9fc227c4f9610.jpg: 640x640 1 Type feuille, 3 leavess, 1 ligneux, 1 phyllotaxie, 12.7ms\n",
            "image 73/154 /content/drive/MyDrive/deeplearning/yolov5/runs/DLProject-6/train/images/laurus084_jpg.rf.3a6c03b2e3f9ce645dad0e540015a9ce.jpg: 640x640 1 Type feuille, 1 leaves, 1 ligneux, 1 phyllotaxie, 13.7ms\n",
            "image 74/154 /content/drive/MyDrive/deeplearning/yolov5/runs/DLProject-6/train/images/laurus085_jpg.rf.50e9d7ef2fd3de6a0f1f1088b89e2a1f.jpg: 640x640 1 Type feuille, 5 leavess, 2 ligneuxs, 1 phyllotaxie, 12.8ms\n",
            "image 75/154 /content/drive/MyDrive/deeplearning/yolov5/runs/DLProject-6/train/images/laurus086_jpg.rf.f1b08bac461b7f4ace05bc9b92e88f77.jpg: 640x640 1 Type feuille, 2 leavess, 1 ligneux, 1 phyllotaxie, 12.7ms\n",
            "image 76/154 /content/drive/MyDrive/deeplearning/yolov5/runs/DLProject-6/train/images/laurus087_jpg.rf.97fd28975b16cbed4f8889c7c3c5f1df.jpg: 640x640 1 Type feuille, 2 leavess, 1 ligneux, 2 phyllotaxies, 12.7ms\n",
            "image 77/154 /content/drive/MyDrive/deeplearning/yolov5/runs/DLProject-6/train/images/laurus088_jpg.rf.bafad68b772bb122ae8156b1aa5e1d47.jpg: 640x640 1 Type feuille, 3 leavess, 1 ligneux, 1 phyllotaxie, 12.7ms\n",
            "image 78/154 /content/drive/MyDrive/deeplearning/yolov5/runs/DLProject-6/train/images/laurus089_jpg.rf.1f882afd202fc9eebb52b038cbcef209.jpg: 640x640 1 Type feuille, 3 leavess, 1 ligneux, 1 phyllotaxie, 12.7ms\n",
            "image 79/154 /content/drive/MyDrive/deeplearning/yolov5/runs/DLProject-6/train/images/laurus092_jpg.rf.f1f56db9fb131eec40f30c2a6be10fe0.jpg: 640x640 1 Type feuille, 2 leavess, 1 ligneux, 1 phyllotaxie, 12.7ms\n",
            "image 80/154 /content/drive/MyDrive/deeplearning/yolov5/runs/DLProject-6/train/images/laurus094_jpg.rf.e2eda880dd55d2ec263dbb1ea8efce2e.jpg: 640x640 1 Type feuille, 3 leavess, 1 ligneux, 1 phyllotaxie, 12.7ms\n",
            "image 81/154 /content/drive/MyDrive/deeplearning/yolov5/runs/DLProject-6/train/images/laurus095_jpg.rf.411ff06dd1a7402bf9389e48b687d751.jpg: 640x640 1 Type feuille, 3 leavess, 1 phyllotaxie, 12.7ms\n",
            "image 82/154 /content/drive/MyDrive/deeplearning/yolov5/runs/DLProject-6/train/images/laurus096_jpg.rf.fbfd6153e97f370babe65815f6f88a4f.jpg: 640x640 2 Type feuilles, 3 leavess, 1 ligneux, 1 phyllotaxie, 12.7ms\n",
            "image 83/154 /content/drive/MyDrive/deeplearning/yolov5/runs/DLProject-6/train/images/laurus097_jpg.rf.ca2c9c8172a5fb3d9debdfeef3873833.jpg: 640x640 2 Type feuilles, 3 leavess, 1 ligneux, 1 phyllotaxie, 13.5ms\n",
            "image 84/154 /content/drive/MyDrive/deeplearning/yolov5/runs/DLProject-6/train/images/laurus098_jpg.rf.2add65102cb13c46dfb3f4f858a5f8d6.jpg: 640x640 1 Type feuille, 3 leavess, 1 ligneux, 1 phyllotaxie, 12.9ms\n",
            "image 85/154 /content/drive/MyDrive/deeplearning/yolov5/runs/DLProject-6/train/images/litsea081_jpg.rf.9cdf361c845aed1bd4a772701040b8e1.jpg: 640x640 2 Type feuilles, 3 leavess, 1 ligneux, 2 phyllotaxies, 12.7ms\n",
            "image 86/154 /content/drive/MyDrive/deeplearning/yolov5/runs/DLProject-6/train/images/litsea082_jpg.rf.1519373a0b79d0608945cf9dc2cac4f9.jpg: 640x640 1 Type feuille, 4 leavess, 1 ligneux, 1 phyllotaxie, 12.7ms\n",
            "image 87/154 /content/drive/MyDrive/deeplearning/yolov5/runs/DLProject-6/train/images/litsea089_jpg.rf.a08ba6cca47b416a70bab17151f1956b.jpg: 640x640 2 Type feuilles, 5 leavess, 1 ligneux, 1 phyllotaxie, 12.7ms\n",
            "image 88/154 /content/drive/MyDrive/deeplearning/yolov5/runs/DLProject-6/train/images/litsea090_jpg.rf.267dce57124eae1855a9d0dd0092d533.jpg: 640x640 1 Type feuille, 3 leavess, 1 ligneux, 1 phyllotaxie, 12.7ms\n",
            "image 89/154 /content/drive/MyDrive/deeplearning/yolov5/runs/DLProject-6/train/images/litsea091_jpg.rf.3494cf7b507972f9e3b5613d07ee4b82.jpg: 640x640 4 Type feuilles, 3 leavess, 1 ligneux, 2 phyllotaxies, 12.7ms\n",
            "image 90/154 /content/drive/MyDrive/deeplearning/yolov5/runs/DLProject-6/train/images/litsea092_jpg.rf.c92adf22890c8d690ada08be4b3cb3a3.jpg: 640x640 1 Type feuille, 3 leavess, 1 ligneux, 1 phyllotaxie, 12.7ms\n",
            "image 91/154 /content/drive/MyDrive/deeplearning/yolov5/runs/DLProject-6/train/images/litsea093_jpg.rf.674fa3bb99b8db1ebcfc1df4e58f11a3.jpg: 640x640 1 Type feuille, 2 leavess, 1 ligneux, 1 phyllotaxie, 12.7ms\n",
            "image 92/154 /content/drive/MyDrive/deeplearning/yolov5/runs/DLProject-6/train/images/litsea094_jpg.rf.74f99b44d961c8a53c72e227d7237b88.jpg: 640x640 1 Type feuille, 3 leavess, 1 ligneux, 1 phyllotaxie, 12.7ms\n",
            "image 93/154 /content/drive/MyDrive/deeplearning/yolov5/runs/DLProject-6/train/images/litsea095_jpg.rf.591739d40a5374f6bb31e4f07012605a.jpg: 640x640 2 Type feuilles, 3 leavess, 1 ligneux, 1 phyllotaxie, 12.8ms\n",
            "image 94/154 /content/drive/MyDrive/deeplearning/yolov5/runs/DLProject-6/train/images/litsea096_jpg.rf.51eae2c5cc4cdf217870eba03fefbb2c.jpg: 640x640 1 Type feuille, 4 leavess, 1 ligneux, 1 phyllotaxie, 12.9ms\n",
            "image 95/154 /content/drive/MyDrive/deeplearning/yolov5/runs/DLProject-6/train/images/litsea097_jpg.rf.e3ab6677a23d49bb005505b5020b4319.jpg: 640x640 1 Type feuille, 4 leavess, 1 ligneux, 1 phyllotaxie, 12.7ms\n",
            "image 96/154 /content/drive/MyDrive/deeplearning/yolov5/runs/DLProject-6/train/images/litsea098_jpg.rf.c4de4a0dcb89f87d8aaedb48954e0990.jpg: 640x640 1 Type feuille, 4 leavess, 1 ligneux, 1 phyllotaxie, 12.7ms\n",
            "image 97/154 /content/drive/MyDrive/deeplearning/yolov5/runs/DLProject-6/train/images/litsea099_jpg.rf.75e525dc7b2796d8088b446607f1fd09.jpg: 640x640 1 Type feuille, 4 leavess, 1 ligneux, 1 phyllotaxie, 12.7ms\n",
            "image 98/154 /content/drive/MyDrive/deeplearning/yolov5/runs/DLProject-6/train/images/litsea100_jpg.rf.3212719c1fcc84c03051a48bb26cb65d.jpg: 640x640 1 Type feuille, 4 leavess, 3 ligneuxs, 1 phyllotaxie, 12.7ms\n",
            "image 99/154 /content/drive/MyDrive/deeplearning/yolov5/runs/DLProject-6/train/images/magnolia081_jpg.rf.c63eed2dbb43889d8008e2d118c041a0.jpg: 640x640 1 Type feuille, 2 leavess, 1 ligneux, 1 phyllotaxie, 12.7ms\n",
            "image 100/154 /content/drive/MyDrive/deeplearning/yolov5/runs/DLProject-6/train/images/magnolia083_jpg.rf.c05b1fef63565080ab3608f6318ff0c7.jpg: 640x640 1 Type feuille, 3 leavess, 1 ligneux, 1 phyllotaxie, 12.7ms\n",
            "image 101/154 /content/drive/MyDrive/deeplearning/yolov5/runs/DLProject-6/train/images/magnolia084_jpg.rf.8db5719b4c0c85df6a2bf774dbd7da0b.jpg: 640x640 1 Type feuille, 3 leavess, 1 ligneux, 1 phyllotaxie, 12.7ms\n",
            "image 102/154 /content/drive/MyDrive/deeplearning/yolov5/runs/DLProject-6/train/images/magnolia086_jpg.rf.d3a4459d3b93cf6917ee8b191140a2c0.jpg: 640x640 1 Type feuille, 2 leavess, 1 ligneux, 12.7ms\n",
            "image 103/154 /content/drive/MyDrive/deeplearning/yolov5/runs/DLProject-6/train/images/magnolia087_jpg.rf.7d947a80539779be348e65fa9fbfb37d.jpg: 640x640 1 Type feuille, 1 leaves, 1 ligneux, 1 phyllotaxie, 12.7ms\n",
            "image 104/154 /content/drive/MyDrive/deeplearning/yolov5/runs/DLProject-6/train/images/magnolia088_jpg.rf.e45dc1e245b3729d7f2e515218b35dbd.jpg: 640x640 1 Type feuille, 3 leavess, 1 ligneux, 1 phyllotaxie, 12.7ms\n",
            "image 105/154 /content/drive/MyDrive/deeplearning/yolov5/runs/DLProject-6/train/images/magnolia090_jpg.rf.e85cb1a0a3eef461b0a287e64f5484bf.jpg: 640x640 1 Type feuille, 2 leavess, 2 ligneuxs, 1 phyllotaxie, 12.7ms\n",
            "image 106/154 /content/drive/MyDrive/deeplearning/yolov5/runs/DLProject-6/train/images/magnolia091_jpg.rf.3e11040b1867d5c066dacaf793ef4dea.jpg: 640x640 1 Type feuille, 3 leavess, 1 ligneux, 1 phyllotaxie, 12.7ms\n",
            "image 107/154 /content/drive/MyDrive/deeplearning/yolov5/runs/DLProject-6/train/images/magnolia093_jpg.rf.b10725b45b530234b8cbbb8f0d14d337.jpg: 640x640 1 Type feuille, 4 leavess, 1 ligneux, 1 phyllotaxie, 12.7ms\n",
            "image 108/154 /content/drive/MyDrive/deeplearning/yolov5/runs/DLProject-6/train/images/magnolia095_jpg.rf.ece2bbfdfa930b7461a96b3ebd7aa9d2.jpg: 640x640 1 Type feuille, 1 leaves, 1 ligneux, 1 phyllotaxie, 12.8ms\n",
            "image 109/154 /content/drive/MyDrive/deeplearning/yolov5/runs/DLProject-6/train/images/magnolia097_jpg.rf.690eaaf8e355e9e01163a9ac2038047f.jpg: 640x640 1 Type feuille, 3 leavess, 1 ligneux, 1 phyllotaxie, 12.8ms\n",
            "image 110/154 /content/drive/MyDrive/deeplearning/yolov5/runs/DLProject-6/train/images/magnolia098_jpg.rf.e8a9cf9be94602c08aaa83fb9736fc0b.jpg: 640x640 2 Type feuilles, 2 leavess, 1 ligneux, 1 phyllotaxie, 12.7ms\n",
            "image 111/154 /content/drive/MyDrive/deeplearning/yolov5/runs/DLProject-6/train/images/magnolia099_jpg.rf.049b06fa5911624d5cf0e84d0ac7b340.jpg: 640x640 1 Type feuille, 3 leavess, 1 ligneux, 1 phyllotaxie, 13.2ms\n",
            "image 112/154 /content/drive/MyDrive/deeplearning/yolov5/runs/DLProject-6/train/images/magnolia100_jpg.rf.7653ffe3d24a7ff305cb29fc4c1b4ac4.jpg: 640x640 2 Type feuilles, 5 leavess, 1 ligneux, 1 phyllotaxie, 12.7ms\n",
            "image 113/154 /content/drive/MyDrive/deeplearning/yolov5/runs/DLProject-6/train/images/monimiaceae081_jpg.rf.66baf5a40103399d5f3d15856cf69cc8.jpg: 640x640 1 Type feuille, 3 leavess, 1 ligneux, 2 phyllotaxies, 12.7ms\n",
            "image 114/154 /content/drive/MyDrive/deeplearning/yolov5/runs/DLProject-6/train/images/monimiaceae082_jpg.rf.f186fd9ab672d60d6c29c8c5c3781e71.jpg: 640x640 1 Type feuille, 2 leavess, 1 ligneux, 2 phyllotaxies, 12.7ms\n",
            "image 115/154 /content/drive/MyDrive/deeplearning/yolov5/runs/DLProject-6/train/images/monimiaceae084_jpg.rf.22348512e6c060ca410f110076107304.jpg: 640x640 1 Type feuille, 2 leavess, 3 ligneuxs, 3 phyllotaxies, 12.7ms\n",
            "image 116/154 /content/drive/MyDrive/deeplearning/yolov5/runs/DLProject-6/train/images/monimiaceae086_jpg.rf.baaff7ed88aea418f2a2139921cb0238.jpg: 640x640 1 Type feuille, 2 leavess, 2 ligneuxs, 3 phyllotaxies, 12.7ms\n",
            "image 117/154 /content/drive/MyDrive/deeplearning/yolov5/runs/DLProject-6/train/images/monimiaceae088_jpg.rf.eb98563082b40f3e4a5212710d65832a.jpg: 640x640 1 Type feuille, 2 leavess, 1 ligneux, 2 phyllotaxies, 12.8ms\n",
            "image 118/154 /content/drive/MyDrive/deeplearning/yolov5/runs/DLProject-6/train/images/monimiaceae089_jpg.rf.4b70e3b5d02586bc277b0732e5150508.jpg: 640x640 1 Type feuille, 3 leavess, 1 ligneux, 4 phyllotaxies, 12.7ms\n",
            "image 119/154 /content/drive/MyDrive/deeplearning/yolov5/runs/DLProject-6/train/images/monimiaceae091_jpg.rf.d519f02764a2c731d1357d0fc7792aff.jpg: 640x640 1 Type feuille, 3 leavess, 1 ligneux, 2 phyllotaxies, 12.7ms\n",
            "image 120/154 /content/drive/MyDrive/deeplearning/yolov5/runs/DLProject-6/train/images/monimiaceae092_jpg.rf.546276c7438afe74503ff7f431cde17b.jpg: 640x640 1 Type feuille, 3 leavess, 1 ligneux, 4 phyllotaxies, 12.7ms\n",
            "image 121/154 /content/drive/MyDrive/deeplearning/yolov5/runs/DLProject-6/train/images/monimiaceae094_jpg.rf.d4e515d212e738d50df397a6bdbb7afa.jpg: 640x640 1 Type feuille, 3 leavess, 1 ligneux, 2 phyllotaxies, 12.7ms\n",
            "image 122/154 /content/drive/MyDrive/deeplearning/yolov5/runs/DLProject-6/train/images/monimiaceae095_jpg.rf.0b9220f33d987c00d25acd6bc605f6be.jpg: 640x640 1 Type feuille, 4 leavess, 1 ligneux, 2 phyllotaxies, 12.7ms\n",
            "image 123/154 /content/drive/MyDrive/deeplearning/yolov5/runs/DLProject-6/train/images/monimiaceae097_jpg.rf.4527729de0cb63ea34616b97fafe1395.jpg: 640x640 1 Type feuille, 2 leavess, 1 ligneux, 1 phyllotaxie, 12.7ms\n",
            "image 124/154 /content/drive/MyDrive/deeplearning/yolov5/runs/DLProject-6/train/images/monimiaceae098_jpg.rf.8c08af1b8505f27002ffc1430cbe08b4.jpg: 640x640 1 Type feuille, 3 leavess, 1 ligneux, 3 phyllotaxies, 13.8ms\n",
            "image 125/154 /content/drive/MyDrive/deeplearning/yolov5/runs/DLProject-6/train/images/monimiaceae099_jpg.rf.5ce8728f112e00042069c737b37d1005.jpg: 640x640 1 Type feuille, 4 leavess, 2 ligneuxs, 3 phyllotaxies, 12.7ms\n",
            "image 126/154 /content/drive/MyDrive/deeplearning/yolov5/runs/DLProject-6/train/images/monimiaceae100_jpg.rf.b594025bfd7931072f9ecb531d0d6859.jpg: 640x640 1 Type feuille, 3 leavess, 1 ligneux, 3 phyllotaxies, 12.7ms\n",
            "image 127/154 /content/drive/MyDrive/deeplearning/yolov5/runs/DLProject-6/train/images/rubus082_jpg.rf.2c61df3c152bdb6db884c59c8337a89a.jpg: 640x640 1 Type feuille, 2 leavess, 1 ligneux, 3 phyllotaxies, 12.7ms\n",
            "image 128/154 /content/drive/MyDrive/deeplearning/yolov5/runs/DLProject-6/train/images/rubus084_jpg.rf.e3044957aaed996acb8cc14ab3c119af.jpg: 640x640 1 Type feuille, 2 leavess, 2 ligneuxs, 1 phyllotaxie, 12.7ms\n",
            "image 129/154 /content/drive/MyDrive/deeplearning/yolov5/runs/DLProject-6/train/images/rubus085_jpg.rf.89b0f2df9fa373a8268da0531fcc1d94.jpg: 640x640 1 Type feuille, 3 leavess, 1 ligneux, 3 phyllotaxies, 12.8ms\n",
            "image 130/154 /content/drive/MyDrive/deeplearning/yolov5/runs/DLProject-6/train/images/rubus086_jpg.rf.819cf55fba7fb91c024d583f5673d5e9.jpg: 640x640 1 Type feuille, 3 leavess, 1 ligneux, 4 phyllotaxies, 12.7ms\n",
            "image 131/154 /content/drive/MyDrive/deeplearning/yolov5/runs/DLProject-6/train/images/rubus088_jpg.rf.f895d890e24a455a70bc12fe052bea93.jpg: 640x640 1 Type feuille, 3 leavess, 2 ligneuxs, 1 phyllotaxie, 12.8ms\n",
            "image 132/154 /content/drive/MyDrive/deeplearning/yolov5/runs/DLProject-6/train/images/rubus089_jpg.rf.23f2ce1c90acd1aa311481bac3f1102f.jpg: 640x640 1 Type feuille, 2 leavess, 2 ligneuxs, 2 phyllotaxies, 12.8ms\n",
            "image 133/154 /content/drive/MyDrive/deeplearning/yolov5/runs/DLProject-6/train/images/rubus091_jpg.rf.3d065c79e5a89344db52794809fcd123.jpg: 640x640 1 Type feuille, 3 leavess, 1 ligneux, 2 phyllotaxies, 12.8ms\n",
            "image 134/154 /content/drive/MyDrive/deeplearning/yolov5/runs/DLProject-6/train/images/rubus092_jpg.rf.a0815a78a703d40a06485cb65073e31c.jpg: 640x640 1 Type feuille, 3 leavess, 2 ligneuxs, 4 phyllotaxies, 12.7ms\n",
            "image 135/154 /content/drive/MyDrive/deeplearning/yolov5/runs/DLProject-6/train/images/rubus093_jpg.rf.ffeab809d511a95cf10467410d016562.jpg: 640x640 1 Type feuille, 3 leavess, 1 ligneux, 2 phyllotaxies, 12.7ms\n",
            "image 136/154 /content/drive/MyDrive/deeplearning/yolov5/runs/DLProject-6/train/images/rubus094_jpg.rf.6ff79b1c37b194135d4e28ad6001dc7d.jpg: 640x640 1 Type feuille, 2 leavess, 1 ligneux, 3 phyllotaxies, 13.7ms\n",
            "image 137/154 /content/drive/MyDrive/deeplearning/yolov5/runs/DLProject-6/train/images/rubus095_jpg.rf.a25731aa99743b1007d1d720dbef0f3a.jpg: 640x640 1 Type feuille, 3 leavess, 1 ligneux, 3 phyllotaxies, 12.7ms\n",
            "image 138/154 /content/drive/MyDrive/deeplearning/yolov5/runs/DLProject-6/train/images/rubus096_jpg.rf.51ad03481022b0168faaa30805133e43.jpg: 640x640 1 Type feuille, 3 leavess, 1 ligneux, 3 phyllotaxies, 12.8ms\n",
            "image 139/154 /content/drive/MyDrive/deeplearning/yolov5/runs/DLProject-6/train/images/rubus097_jpg.rf.33c549a32bfe570385246cfdbc4d38e7.jpg: 640x640 1 Type feuille, 4 leavess, 2 ligneuxs, 3 phyllotaxies, 12.7ms\n",
            "image 140/154 /content/drive/MyDrive/deeplearning/yolov5/runs/DLProject-6/train/images/rubus098_jpg.rf.9313b9e509a1c9ffb85420b0f282c216.jpg: 640x640 1 Type feuille, 2 leavess, 1 ligneux, 2 phyllotaxies, 12.7ms\n",
            "image 141/154 /content/drive/MyDrive/deeplearning/yolov5/runs/DLProject-6/train/images/ulmus082_jpg.rf.0aaf28d3e737f5907a65b67d0e5efbad.jpg: 640x640 1 Type feuille, 3 leavess, 1 ligneux, 3 phyllotaxies, 12.7ms\n",
            "image 142/154 /content/drive/MyDrive/deeplearning/yolov5/runs/DLProject-6/train/images/ulmus083_jpg.rf.2ddc9d4b253db4255449e989a86819cf.jpg: 640x640 1 Type feuille, 3 leavess, 1 ligneux, 3 phyllotaxies, 12.7ms\n",
            "image 143/154 /content/drive/MyDrive/deeplearning/yolov5/runs/DLProject-6/train/images/ulmus084_jpg.rf.26f4781a25d10adf6a95ad8d6fb97c92.jpg: 640x640 1 Type feuille, 3 leavess, 1 ligneux, 3 phyllotaxies, 12.7ms\n",
            "image 144/154 /content/drive/MyDrive/deeplearning/yolov5/runs/DLProject-6/train/images/ulmus085_jpg.rf.fce5cfceab299f460a54ecc6592e4c82.jpg: 640x640 1 Type feuille, 2 leavess, 4 ligneuxs, 1 phyllotaxie, 12.7ms\n",
            "image 145/154 /content/drive/MyDrive/deeplearning/yolov5/runs/DLProject-6/train/images/ulmus087_jpg.rf.75e35be8906d1eb0db3f8731ebb50498.jpg: 640x640 1 Type feuille, 3 leavess, 1 ligneux, 1 phyllotaxie, 12.7ms\n",
            "image 146/154 /content/drive/MyDrive/deeplearning/yolov5/runs/DLProject-6/train/images/ulmus089_jpg.rf.4dc14cd9ecb7d717de6cd9cd3213ca1e.jpg: 640x640 1 Type feuille, 5 leavess, 3 ligneuxs, 8 phyllotaxies, 12.8ms\n",
            "image 147/154 /content/drive/MyDrive/deeplearning/yolov5/runs/DLProject-6/train/images/ulmus091_jpg.rf.2bd52f82000ca3603f30b2fa41def50f.jpg: 640x640 1 Type feuille, 1 leaves, 1 ligneux, 1 phyllotaxie, 12.7ms\n",
            "image 148/154 /content/drive/MyDrive/deeplearning/yolov5/runs/DLProject-6/train/images/ulmus092_jpg.rf.1eaeb5f8d2f00175be18d410523c18d7.jpg: 640x640 1 Type feuille, 2 leavess, 1 ligneux, 12.7ms\n",
            "image 149/154 /content/drive/MyDrive/deeplearning/yolov5/runs/DLProject-6/train/images/ulmus095_jpg.rf.1f9c7ac7e4b5331dd5d3be0da1ed29a7.jpg: 640x640 1 Type feuille, 2 leavess, 1 ligneux, 1 phyllotaxie, 12.7ms\n",
            "image 150/154 /content/drive/MyDrive/deeplearning/yolov5/runs/DLProject-6/train/images/ulmus096_jpg.rf.3d91c5d6da1db283b21eca0159d10bbb.jpg: 640x640 1 Type feuille, 3 leavess, 1 ligneux, 3 phyllotaxies, 12.7ms\n",
            "image 151/154 /content/drive/MyDrive/deeplearning/yolov5/runs/DLProject-6/train/images/ulmus097_jpg.rf.2c22b45b1a2e84917c1dbb2ef4bf69f0.jpg: 640x640 1 Type feuille, 3 leavess, 1 ligneux, 3 phyllotaxies, 12.7ms\n",
            "image 152/154 /content/drive/MyDrive/deeplearning/yolov5/runs/DLProject-6/train/images/ulmus098_jpg.rf.839bebd4d9d77c2a979677c692d77ce0.jpg: 640x640 3 leavess, 1 phyllotaxie, 13.9ms\n",
            "image 153/154 /content/drive/MyDrive/deeplearning/yolov5/runs/DLProject-6/train/images/ulmus099_jpg.rf.226f48e9b1367e11840529fed872a8e4.jpg: 640x640 1 Type feuille, 3 leavess, 1 ligneux, 2 phyllotaxies, 12.7ms\n",
            "image 154/154 /content/drive/MyDrive/deeplearning/yolov5/runs/DLProject-6/train/images/ulmus100_jpg.rf.e46c85056b86b7da00a5e5b81f1a1e05.jpg: 640x640 1 Type feuille, 3 leavess, 1 ligneux, 4 phyllotaxies, 12.7ms\n",
            "Speed: 0.5ms pre-process, 12.8ms inference, 1.1ms NMS per image at shape (1, 3, 640, 640)\n",
            "Results saved to \u001b[1mruns/detect/exp7\u001b[0m\n",
            "\u001b[34m\u001b[1mdetect: \u001b[0mweights=['runs/train/exp20/weights/best.pt'], source=/content/drive/MyDrive/deeplearning/yolov5/runs/DLProject-6/valid/images, data=data/coco128.yaml, imgsz=[640, 640], conf_thres=0.1, iou_thres=0.45, max_det=1000, device=, view_img=False, save_txt=False, save_conf=False, save_crop=False, nosave=False, classes=None, agnostic_nms=False, augment=False, visualize=False, update=False, project=runs/detect, name=exp, exist_ok=False, line_thickness=3, hide_labels=False, hide_conf=False, half=False, dnn=False, vid_stride=1\n",
            "YOLOv5 🚀 v6.2-235-g75728bb Python-3.8.15 torch-1.12.1+cu113 CUDA:0 (Tesla T4, 15110MiB)\n",
            "\n",
            "Fusing layers... \n",
            "Model summary: 157 layers, 7023610 parameters, 0 gradients, 15.8 GFLOPs\n",
            "image 1/65 /content/drive/MyDrive/deeplearning/yolov5/runs/DLProject-6/valid/images/amborella081_jpg.rf.dc1772b57baeb18540af0eaf42e36d45.jpg: 640x640 1 Type feuille, 2 leavess, 1 ligneux, 12.7ms\n",
            "image 2/65 /content/drive/MyDrive/deeplearning/yolov5/runs/DLProject-6/valid/images/amborella087_jpg.rf.1b42a9366ffd4a049da44481a913eddf.jpg: 640x640 2 Type feuilles, 3 leavess, 3 ligneuxs, 12.7ms\n",
            "image 3/65 /content/drive/MyDrive/deeplearning/yolov5/runs/DLProject-6/valid/images/amborella093_jpg.rf.96605441093500aaedfde360590445ba.jpg: 640x640 1 Type feuille, 3 leavess, 5 ligneuxs, 12.7ms\n",
            "image 4/65 /content/drive/MyDrive/deeplearning/yolov5/runs/DLProject-6/valid/images/amborella096_jpg.rf.5555aebfc03677f8c656d804d21be6a9.jpg: 640x640 1 Type feuille, 3 leavess, 12.7ms\n",
            "image 5/65 /content/drive/MyDrive/deeplearning/yolov5/runs/DLProject-6/valid/images/amborella097_jpg.rf.4cf7b58877ea976254f4bee0df93f6fa.jpg: 640x640 1 Type feuille, 3 leavess, 1 ligneux, 1 phyllotaxie, 12.7ms\n",
            "image 6/65 /content/drive/MyDrive/deeplearning/yolov5/runs/DLProject-6/valid/images/castarea083_jpg.rf.bb9a619b6575980f53a4a5801621c5ce.jpg: 640x640 1 Type feuille, 6 leavess, 1 ligneux, 1 phyllotaxie, 12.7ms\n",
            "image 7/65 /content/drive/MyDrive/deeplearning/yolov5/runs/DLProject-6/valid/images/castarea092_jpg.rf.a4002aaa9c67c8770c8be18f156c359b.jpg: 640x640 1 Type feuille, 6 leavess, 1 ligneux, 1 phyllotaxie, 12.8ms\n",
            "image 8/65 /content/drive/MyDrive/deeplearning/yolov5/runs/DLProject-6/valid/images/castarea094_jpg.rf.6a060c13f05ea3aca2e241fcd751f23c.jpg: 640x640 1 Type feuille, 3 leavess, 1 ligneux, 1 phyllotaxie, 12.7ms\n",
            "image 9/65 /content/drive/MyDrive/deeplearning/yolov5/runs/DLProject-6/valid/images/castarea098_jpg.rf.8046c018f5b6054ee29567a46f6d7e63.jpg: 640x640 1 Type feuille, 3 leavess, 3 ligneuxs, 2 phyllotaxies, 12.7ms\n",
            "image 10/65 /content/drive/MyDrive/deeplearning/yolov5/runs/DLProject-6/valid/images/castarea099_jpg.rf.c7ff6d30ff0718a032cef8caeb79d53e.jpg: 640x640 1 Type feuille, 3 leavess, 2 ligneuxs, 12.8ms\n",
            "image 11/65 /content/drive/MyDrive/deeplearning/yolov5/runs/DLProject-6/valid/images/castarea100_jpg.rf.34afda95e549813f3eae2aee6349b7b3.jpg: 640x640 1 Type feuille, 2 leavess, 1 ligneux, 20.7ms\n",
            "image 12/65 /content/drive/MyDrive/deeplearning/yolov5/runs/DLProject-6/valid/images/convolvulaceae084_jpg.rf.c3d49325b5fef41802afe4c99022935d.jpg: 640x640 1 Type feuille, 1 leaves, 1 ligneux, 12.7ms\n",
            "image 13/65 /content/drive/MyDrive/deeplearning/yolov5/runs/DLProject-6/valid/images/convolvulaceae086_jpg.rf.0bca06a60f7c593323399e62a5955517.jpg: 640x640 1 Type feuille, 1 ligneux, 12.7ms\n",
            "image 14/65 /content/drive/MyDrive/deeplearning/yolov5/runs/DLProject-6/valid/images/convolvulaceae087_jpg.rf.1416a626a9ff4e7935d9929d545e77f8.jpg: 640x640 1 Type feuille, 3 ligneuxs, 3 phyllotaxies, 12.7ms\n",
            "image 15/65 /content/drive/MyDrive/deeplearning/yolov5/runs/DLProject-6/valid/images/convolvulaceae091_jpg.rf.d950cf4f514215eaa27eb530e1a7059b.jpg: 640x640 1 Type feuille, 3 leavess, 1 ligneux, 15.7ms\n",
            "image 16/65 /content/drive/MyDrive/deeplearning/yolov5/runs/DLProject-6/valid/images/convolvulaceae094_jpg.rf.9fab4438dc39f9f2bdd18243a9a46efe.jpg: 640x640 1 Type feuille, 2 leavess, 1 ligneux, 12.8ms\n",
            "image 17/65 /content/drive/MyDrive/deeplearning/yolov5/runs/DLProject-6/valid/images/convolvulaceae100_jpg.rf.e5dea86fd4f145ed0912237e3be3144a.jpg: 640x640 1 Type feuille, 4 leavess, 1 ligneux, 1 phyllotaxie, 12.7ms\n",
            "image 18/65 /content/drive/MyDrive/deeplearning/yolov5/runs/DLProject-6/valid/images/desmodium083_jpg.rf.19825e454773adb1ffe2f158fd45a9f3.jpg: 640x640 1 Type feuille, 1 leaves, 1 ligneux, 1 phyllotaxie, 12.7ms\n",
            "image 19/65 /content/drive/MyDrive/deeplearning/yolov5/runs/DLProject-6/valid/images/desmodium092_jpg.rf.4bfb8e6f7f953de5f5f03076fe4a5fc6.jpg: 640x640 2 Type feuilles, 4 leavess, 2 ligneuxs, 12.7ms\n",
            "image 20/65 /content/drive/MyDrive/deeplearning/yolov5/runs/DLProject-6/valid/images/desmodium095_jpg.rf.4d2b94334b91771e46bd1e751c6a30ff.jpg: 640x640 1 Type feuille, 3 leavess, 2 ligneuxs, 1 phyllotaxie, 12.7ms\n",
            "image 21/65 /content/drive/MyDrive/deeplearning/yolov5/runs/DLProject-6/valid/images/desmodium097_jpg.rf.b4f5ee7e88ac9bf3b128d303cae7d7c5.jpg: 640x640 1 Type feuille, 5 leavess, 1 ligneux, 1 phyllotaxie, 12.7ms\n",
            "image 22/65 /content/drive/MyDrive/deeplearning/yolov5/runs/DLProject-6/valid/images/desmodium098_jpg.rf.979ef457b45d0571019351ea545dbde0.jpg: 640x640 1 Type feuille, 7 leavess, 2 ligneuxs, 1 phyllotaxie, 12.7ms\n",
            "image 23/65 /content/drive/MyDrive/deeplearning/yolov5/runs/DLProject-6/valid/images/desmodium100_jpg.rf.77fb7d736ceaa6c96f7359181a6d11ee.jpg: 640x640 2 Type feuilles, 3 leavess, 1 ligneux, 12.7ms\n",
            "image 24/65 /content/drive/MyDrive/deeplearning/yolov5/runs/DLProject-6/valid/images/eugenia083_jpg.rf.6f4079daa803d42a98cefc211b9c90ca.jpg: 640x640 1 Type feuille, 2 leavess, 1 ligneux, 2 phyllotaxies, 16.7ms\n",
            "image 25/65 /content/drive/MyDrive/deeplearning/yolov5/runs/DLProject-6/valid/images/eugenia084_jpg.rf.056e506aee019e38298112fa542ef474.jpg: 640x640 1 Type feuille, 4 leavess, 2 ligneuxs, 12.8ms\n",
            "image 26/65 /content/drive/MyDrive/deeplearning/yolov5/runs/DLProject-6/valid/images/eugenia085_jpg.rf.d71ddb96f7160cbd731d859d931fd9ac.jpg: 640x640 1 Type feuille, 4 leavess, 1 ligneux, 12.7ms\n",
            "image 27/65 /content/drive/MyDrive/deeplearning/yolov5/runs/DLProject-6/valid/images/eugenia087_jpg.rf.5488f9d0059192cfc5ed701d6cbab4f3.jpg: 640x640 1 Type feuille, 3 leavess, 2 ligneuxs, 12.7ms\n",
            "image 28/65 /content/drive/MyDrive/deeplearning/yolov5/runs/DLProject-6/valid/images/eugenia089_jpg.rf.8d309ecf98b385f94f592d354ff9b616.jpg: 640x640 1 Type feuille, 3 leavess, 1 ligneux, 12.7ms\n",
            "image 29/65 /content/drive/MyDrive/deeplearning/yolov5/runs/DLProject-6/valid/images/eugenia099_jpg.rf.783bb062be9602cbb4d90c3919604494.jpg: 640x640 1 Type feuille, 5 leavess, 1 ligneux, 3 phyllotaxies, 12.8ms\n",
            "image 30/65 /content/drive/MyDrive/deeplearning/yolov5/runs/DLProject-6/valid/images/laurus081_jpg.rf.36ccf52f5ce773a98840b225400d771f.jpg: 640x640 1 Type feuille, 2 leavess, 1 phyllotaxie, 12.8ms\n",
            "image 31/65 /content/drive/MyDrive/deeplearning/yolov5/runs/DLProject-6/valid/images/laurus090_jpg.rf.34feb3b6850d3d532b2937e4cb580a45.jpg: 640x640 1 Type feuille, 2 leavess, 12.7ms\n",
            "image 32/65 /content/drive/MyDrive/deeplearning/yolov5/runs/DLProject-6/valid/images/laurus091_jpg.rf.a6ab909e327f3ef6db4402a7b9f752d2.jpg: 640x640 1 Type feuille, 4 leavess, 1 ligneux, 12.7ms\n",
            "image 33/65 /content/drive/MyDrive/deeplearning/yolov5/runs/DLProject-6/valid/images/laurus093_jpg.rf.b61adfac0c629233c7a40f7551d75175.jpg: 640x640 1 Type feuille, 4 leavess, 1 ligneux, 12.7ms\n",
            "image 34/65 /content/drive/MyDrive/deeplearning/yolov5/runs/DLProject-6/valid/images/laurus099_jpg.rf.05ee17a5c80af152f8c0807c80004b80.jpg: 640x640 1 Type feuille, 1 leaves, 1 phyllotaxie, 12.7ms\n",
            "image 35/65 /content/drive/MyDrive/deeplearning/yolov5/runs/DLProject-6/valid/images/laurus100_jpg.rf.6a81748725ec735a4d4d3e0d85172977.jpg: 640x640 1 Type feuille, 3 leavess, 1 ligneux, 2 phyllotaxies, 12.7ms\n",
            "image 36/65 /content/drive/MyDrive/deeplearning/yolov5/runs/DLProject-6/valid/images/litsea083_jpg.rf.5ef58f19c8aab848a609684cc00d59c3.jpg: 640x640 1 Type feuille, 5 leavess, 2 ligneuxs, 1 phyllotaxie, 13.2ms\n",
            "image 37/65 /content/drive/MyDrive/deeplearning/yolov5/runs/DLProject-6/valid/images/litsea084_jpg.rf.bdbdaff170be7d5f0d99f30365107f88.jpg: 640x640 1 Type feuille, 3 leavess, 2 ligneuxs, 2 phyllotaxies, 12.7ms\n",
            "image 38/65 /content/drive/MyDrive/deeplearning/yolov5/runs/DLProject-6/valid/images/litsea085_jpg.rf.75cdeb17a790fda867f8804bf2b8c8d2.jpg: 640x640 2 leavess, 1 ligneux, 12.7ms\n",
            "image 39/65 /content/drive/MyDrive/deeplearning/yolov5/runs/DLProject-6/valid/images/litsea086_jpg.rf.07ae6bba0c6f7b52162c5ff4df8142cf.jpg: 640x640 1 Type feuille, 2 leavess, 2 ligneuxs, 12.7ms\n",
            "image 40/65 /content/drive/MyDrive/deeplearning/yolov5/runs/DLProject-6/valid/images/litsea087_jpg.rf.850ebafc394972be5817e5a89ab3857f.jpg: 640x640 1 Type feuille, 3 leavess, 1 ligneux, 2 phyllotaxies, 12.7ms\n",
            "image 41/65 /content/drive/MyDrive/deeplearning/yolov5/runs/DLProject-6/valid/images/litsea088_jpg.rf.441012c512504fdc07776286c24643d1.jpg: 640x640 1 Type feuille, 3 leavess, 2 ligneuxs, 1 phyllotaxie, 12.7ms\n",
            "image 42/65 /content/drive/MyDrive/deeplearning/yolov5/runs/DLProject-6/valid/images/magnolia082_jpg.rf.615cb9359fc4cff600ee33f164a9991a.jpg: 640x640 1 Type feuille, 3 leavess, 1 ligneux, 12.7ms\n",
            "image 43/65 /content/drive/MyDrive/deeplearning/yolov5/runs/DLProject-6/valid/images/magnolia085_jpg.rf.d5a07aed494b76801302d2dbd2ddd7f9.jpg: 640x640 1 Type feuille, 5 leavess, 1 ligneux, 1 phyllotaxie, 12.7ms\n",
            "image 44/65 /content/drive/MyDrive/deeplearning/yolov5/runs/DLProject-6/valid/images/magnolia089_jpg.rf.3ef327457f3149c70146a4f57196842d.jpg: 640x640 1 Type feuille, 2 leavess, 1 ligneux, 1 phyllotaxie, 12.7ms\n",
            "image 45/65 /content/drive/MyDrive/deeplearning/yolov5/runs/DLProject-6/valid/images/magnolia092_jpg.rf.b2604a20d5557076a6081fd589e18842.jpg: 640x640 1 Type feuille, 6 leavess, 2 ligneuxs, 2 phyllotaxies, 12.7ms\n",
            "image 46/65 /content/drive/MyDrive/deeplearning/yolov5/runs/DLProject-6/valid/images/magnolia094_jpg.rf.b7addf168cf09504e4e9fe79bf8eb739.jpg: 640x640 1 Type feuille, 5 leavess, 2 ligneuxs, 2 phyllotaxies, 12.7ms\n",
            "image 47/65 /content/drive/MyDrive/deeplearning/yolov5/runs/DLProject-6/valid/images/magnolia096_jpg.rf.1ae035fa2e6adbf6052c58e06d51536d.jpg: 640x640 1 Type feuille, 4 leavess, 2 ligneuxs, 12.7ms\n",
            "image 48/65 /content/drive/MyDrive/deeplearning/yolov5/runs/DLProject-6/valid/images/monimiaceae083_jpg.rf.64c6863c7f1f0c0ad14b95a4054cc95e.jpg: 640x640 2 Type feuilles, 2 leavess, 12.7ms\n",
            "image 49/65 /content/drive/MyDrive/deeplearning/yolov5/runs/DLProject-6/valid/images/monimiaceae085_jpg.rf.ea614bdd507d750d27ec8df468270784.jpg: 640x640 1 Type feuille, 6 leavess, 1 ligneux, 3 phyllotaxies, 12.7ms\n",
            "image 50/65 /content/drive/MyDrive/deeplearning/yolov5/runs/DLProject-6/valid/images/monimiaceae087_jpg.rf.231c4f566da838ab7f7fd43312f720a0.jpg: 640x640 2 Type feuilles, 5 leavess, 2 ligneuxs, 1 phyllotaxie, 12.8ms\n",
            "image 51/65 /content/drive/MyDrive/deeplearning/yolov5/runs/DLProject-6/valid/images/monimiaceae090_jpg.rf.9c3dc1152fc1dda7715191026b80b317.jpg: 640x640 1 Type feuille, 4 leavess, 2 ligneuxs, 12.7ms\n",
            "image 52/65 /content/drive/MyDrive/deeplearning/yolov5/runs/DLProject-6/valid/images/monimiaceae093_jpg.rf.8396e0827dd9c217bacbded2a2359956.jpg: 640x640 1 Type feuille, 4 leavess, 1 ligneux, 3 phyllotaxies, 12.7ms\n",
            "image 53/65 /content/drive/MyDrive/deeplearning/yolov5/runs/DLProject-6/valid/images/monimiaceae096_jpg.rf.8bd921f0c9c95e40dcccc73b0a3d0af2.jpg: 640x640 1 Type feuille, 6 leavess, 3 ligneuxs, 4 phyllotaxies, 12.7ms\n",
            "image 54/65 /content/drive/MyDrive/deeplearning/yolov5/runs/DLProject-6/valid/images/rubus081_jpg.rf.c3fba05c5c448d73b8ee893e08cd1863.jpg: 640x640 1 Type feuille, 6 leavess, 2 ligneuxs, 5 phyllotaxies, 12.7ms\n",
            "image 55/65 /content/drive/MyDrive/deeplearning/yolov5/runs/DLProject-6/valid/images/rubus083_jpg.rf.fc2c42f4effe3d0c312a21ce23d50875.jpg: 640x640 1 Type feuille, 9 leavess, 2 ligneuxs, 1 phyllotaxie, 12.7ms\n",
            "image 56/65 /content/drive/MyDrive/deeplearning/yolov5/runs/DLProject-6/valid/images/rubus087_jpg.rf.7803a625029025c014b9143c7dbdf1a6.jpg: 640x640 1 Type feuille, 4 leavess, 2 ligneuxs, 1 phyllotaxie, 12.7ms\n",
            "image 57/65 /content/drive/MyDrive/deeplearning/yolov5/runs/DLProject-6/valid/images/rubus090_jpg.rf.492f85f38f96afa7d624d7d3ed8eade9.jpg: 640x640 2 Type feuilles, 2 leavess, 1 ligneux, 2 phyllotaxies, 12.7ms\n",
            "image 58/65 /content/drive/MyDrive/deeplearning/yolov5/runs/DLProject-6/valid/images/rubus099_jpg.rf.1002296e665e90cf487ed6ce62411e3e.jpg: 640x640 1 Type feuille, 5 leavess, 2 ligneuxs, 4 phyllotaxies, 12.7ms\n",
            "image 59/65 /content/drive/MyDrive/deeplearning/yolov5/runs/DLProject-6/valid/images/rubus100_jpg.rf.d2a372b305139b9e218bc7ecf27234cc.jpg: 640x640 2 Type feuilles, 3 leavess, 1 ligneux, 2 phyllotaxies, 12.7ms\n",
            "image 60/65 /content/drive/MyDrive/deeplearning/yolov5/runs/DLProject-6/valid/images/ulmus081_jpg.rf.39937efb345e0a840ac92ec0cedbb9ca.jpg: 640x640 1 Type feuille, 4 leavess, 2 ligneuxs, 1 phyllotaxie, 12.8ms\n",
            "image 61/65 /content/drive/MyDrive/deeplearning/yolov5/runs/DLProject-6/valid/images/ulmus086_jpg.rf.ba304caf772994317953e68d58936adc.jpg: 640x640 1 Type feuille, 4 leavess, 1 ligneux, 12.7ms\n",
            "image 62/65 /content/drive/MyDrive/deeplearning/yolov5/runs/DLProject-6/valid/images/ulmus088_jpg.rf.1691051c5e9194c68c0be3e51d2ffcf9.jpg: 640x640 1 Type feuille, 3 leavess, 1 ligneux, 12.7ms\n",
            "image 63/65 /content/drive/MyDrive/deeplearning/yolov5/runs/DLProject-6/valid/images/ulmus090_jpg.rf.eaeb97d5b83a00e290cbf0f6ffffb45c.jpg: 640x640 1 Type feuille, 3 leavess, 2 ligneuxs, 1 phyllotaxie, 12.7ms\n",
            "image 64/65 /content/drive/MyDrive/deeplearning/yolov5/runs/DLProject-6/valid/images/ulmus093_jpg.rf.d100e5815849c6c8fe84259fa17c11d4.jpg: 640x640 1 Type feuille, 6 leavess, 1 ligneux, 12.8ms\n",
            "image 65/65 /content/drive/MyDrive/deeplearning/yolov5/runs/DLProject-6/valid/images/ulmus094_jpg.rf.3f7fc5b39c17114f848c15916785d4a6.jpg: 640x640 1 Type feuille, 3 leavess, 3 ligneuxs, 1 phyllotaxie, 12.7ms\n",
            "Speed: 0.5ms pre-process, 13.0ms inference, 1.0ms NMS per image at shape (1, 3, 640, 640)\n",
            "Results saved to \u001b[1mruns/detect/exp8\u001b[0m\n",
            "\u001b[34m\u001b[1mdetect: \u001b[0mweights=['runs/train/exp20/weights/best.pt'], source=/content/drive/MyDrive/deeplearning/yolov5/runs/DLProject-6/test/images, data=data/coco128.yaml, imgsz=[640, 640], conf_thres=0.1, iou_thres=0.45, max_det=1000, device=, view_img=False, save_txt=False, save_conf=False, save_crop=False, nosave=False, classes=None, agnostic_nms=False, augment=False, visualize=False, update=False, project=runs/detect, name=exp, exist_ok=False, line_thickness=3, hide_labels=False, hide_conf=False, half=False, dnn=False, vid_stride=1\n",
            "YOLOv5 🚀 v6.2-235-g75728bb Python-3.8.15 torch-1.12.1+cu113 CUDA:0 (Tesla T4, 15110MiB)\n",
            "\n",
            "Fusing layers... \n",
            "Model summary: 157 layers, 7023610 parameters, 0 gradients, 15.8 GFLOPs\n",
            "image 1/111 /content/drive/MyDrive/deeplearning/yolov5/runs/DLProject-6/test/images/amborella071_jpg.rf.2a31908bda3398ecd15c36ccf4df76d1.jpg: 640x640 1 Type feuille, 2 leavess, 2 ligneuxs, 2 phyllotaxies, 12.7ms\n",
            "image 2/111 /content/drive/MyDrive/deeplearning/yolov5/runs/DLProject-6/test/images/amborella072_jpg.rf.2529126b39a08065b1bdc0609813128f.jpg: 640x640 1 Type feuille, 3 leavess, 1 ligneux, 18.0ms\n",
            "image 3/111 /content/drive/MyDrive/deeplearning/yolov5/runs/DLProject-6/test/images/amborella073_jpg.rf.df9aecc77e60bdfcc7686e83394fc0ed.jpg: 640x640 1 Type feuille, 4 leavess, 1 phyllotaxie, 12.8ms\n",
            "image 4/111 /content/drive/MyDrive/deeplearning/yolov5/runs/DLProject-6/test/images/amborella074_jpg.rf.39b57bf7c6950a8cbd44bfae8843ebb7.jpg: 640x640 1 Type feuille, 4 leavess, 3 ligneuxs, 12.7ms\n",
            "image 5/111 /content/drive/MyDrive/deeplearning/yolov5/runs/DLProject-6/test/images/amborella075_jpg.rf.1bf42a06740ef9e4385c4ed558e57f01.jpg: 640x640 1 Type feuille, 1 leaves, 2 ligneuxs, 1 phyllotaxie, 12.7ms\n",
            "image 6/111 /content/drive/MyDrive/deeplearning/yolov5/runs/DLProject-6/test/images/amborella076_jpg.rf.ccda1cdeba3fa5b555b69f677ccff59d.jpg: 640x640 1 Type feuille, 1 leaves, 3 ligneuxs, 12.8ms\n",
            "image 7/111 /content/drive/MyDrive/deeplearning/yolov5/runs/DLProject-6/test/images/amborella077_jpg.rf.88efc29aa63de4de88be1623a3c2f6c7.jpg: 640x640 1 Type feuille, 3 leavess, 2 ligneuxs, 12.7ms\n",
            "image 8/111 /content/drive/MyDrive/deeplearning/yolov5/runs/DLProject-6/test/images/amborella078_jpg.rf.2cc0469ed13b5108b8c2891e0274f06c.jpg: 640x640 1 Type feuille, 4 leavess, 1 ligneux, 12.7ms\n",
            "image 9/111 /content/drive/MyDrive/deeplearning/yolov5/runs/DLProject-6/test/images/amborella079_jpg.rf.8a7e38c04cd160070675a5804dad50e4.jpg: 640x640 1 Type feuille, 1 leaves, 1 ligneux, 12.7ms\n",
            "image 10/111 /content/drive/MyDrive/deeplearning/yolov5/runs/DLProject-6/test/images/amborella080_jpg.rf.6e20bec073835b0da9c5aeb163babb63.jpg: 640x640 1 Type feuille, 2 leavess, 2 ligneuxs, 12.7ms\n",
            "image 11/111 /content/drive/MyDrive/deeplearning/yolov5/runs/DLProject-6/test/images/amborella084_jpg.rf.b03e491c2192dd99350b40c3c82cc30d.jpg: 640x640 2 Type feuilles, 5 leavess, 2 ligneuxs, 1 phyllotaxie, 12.7ms\n",
            "image 12/111 /content/drive/MyDrive/deeplearning/yolov5/runs/DLProject-6/test/images/castarea071_jpg.rf.0d91fc99a063b6de84ca3735747c73cb.jpg: 640x640 1 Type feuille, 5 leavess, 1 ligneux, 4 phyllotaxies, 12.8ms\n",
            "image 13/111 /content/drive/MyDrive/deeplearning/yolov5/runs/DLProject-6/test/images/castarea072_jpg.rf.55edc1c4ab1c77f2b7d3dc2db8e8c6e8.jpg: 640x640 1 Type feuille, 5 leavess, 3 ligneuxs, 3 phyllotaxies, 12.8ms\n",
            "image 14/111 /content/drive/MyDrive/deeplearning/yolov5/runs/DLProject-6/test/images/castarea073_jpg.rf.52ae9ec667fc5e5ef5d90d5951a2b7b6.jpg: 640x640 1 Type feuille, 5 leavess, 1 ligneux, 12.7ms\n",
            "image 15/111 /content/drive/MyDrive/deeplearning/yolov5/runs/DLProject-6/test/images/castarea074_jpg.rf.7772635d3d0d23e7bf4e7b62bc0fdc33.jpg: 640x640 1 Type feuille, 3 leavess, 2 ligneuxs, 2 phyllotaxies, 12.8ms\n",
            "image 16/111 /content/drive/MyDrive/deeplearning/yolov5/runs/DLProject-6/test/images/castarea075_jpg.rf.e02a758a5dfb8b1876be100bfb27c113.jpg: 640x640 1 Type feuille, 5 leavess, 1 ligneux, 12.8ms\n",
            "image 17/111 /content/drive/MyDrive/deeplearning/yolov5/runs/DLProject-6/test/images/castarea076_jpg.rf.38512cedb01de9da1a31691a4a9d7bfc.jpg: 640x640 1 Type feuille, 2 leavess, 1 ligneux, 12.7ms\n",
            "image 18/111 /content/drive/MyDrive/deeplearning/yolov5/runs/DLProject-6/test/images/castarea077_jpg.rf.9dbd15194f561894b140cd0d4d5f8906.jpg: 640x640 1 Type feuille, 3 leavess, 1 ligneux, 1 phyllotaxie, 12.8ms\n",
            "image 19/111 /content/drive/MyDrive/deeplearning/yolov5/runs/DLProject-6/test/images/castarea078_jpg.rf.8f9edafe3b45cd2e0366a62d841f924e.jpg: 640x640 1 Type feuille, 4 leavess, 2 ligneuxs, 1 phyllotaxie, 12.8ms\n",
            "image 20/111 /content/drive/MyDrive/deeplearning/yolov5/runs/DLProject-6/test/images/castarea079_jpg.rf.bc12e98f8bd208ae57d60c90138304c3.jpg: 640x640 1 Type feuille, 6 leavess, 1 ligneux, 1 phyllotaxie, 12.7ms\n",
            "image 21/111 /content/drive/MyDrive/deeplearning/yolov5/runs/DLProject-6/test/images/castarea080_jpg.rf.edd4d9e4faff54836b67723bcadf149c.jpg: 640x640 1 Type feuille, 3 leavess, 2 ligneuxs, 2 phyllotaxies, 12.7ms\n",
            "image 22/111 /content/drive/MyDrive/deeplearning/yolov5/runs/DLProject-6/test/images/convolvulaceae071_jpg.rf.87ac083fe25ee2fcf1511d61c7afdbfa.jpg: 640x640 1 Type feuille, 1 leaves, 1 ligneux, 12.7ms\n",
            "image 23/111 /content/drive/MyDrive/deeplearning/yolov5/runs/DLProject-6/test/images/convolvulaceae072_jpg.rf.2b462987a3546c55bd482896c561e990.jpg: 640x640 1 Type feuille, 2 leavess, 1 ligneux, 2 phyllotaxies, 12.7ms\n",
            "image 24/111 /content/drive/MyDrive/deeplearning/yolov5/runs/DLProject-6/test/images/convolvulaceae073_jpg.rf.a14c7bbe89d301c9c7a60791f97e97e4.jpg: 640x640 1 Type feuille, 1 leaves, 1 ligneux, 12.8ms\n",
            "image 25/111 /content/drive/MyDrive/deeplearning/yolov5/runs/DLProject-6/test/images/convolvulaceae074_jpg.rf.2e6e25ec71e1719573762d9f14a40287.jpg: 640x640 1 Type feuille, 7 leavess, 4 ligneuxs, 2 phyllotaxies, 12.8ms\n",
            "image 26/111 /content/drive/MyDrive/deeplearning/yolov5/runs/DLProject-6/test/images/convolvulaceae075_jpg.rf.21088adc39e61ae8978146ddccf6d1cd.jpg: 640x640 2 Type feuilles, 2 leavess, 2 ligneuxs, 12.7ms\n",
            "image 27/111 /content/drive/MyDrive/deeplearning/yolov5/runs/DLProject-6/test/images/convolvulaceae076_jpg.rf.b75509655c9c633c9dc357c5b3243f2b.jpg: 640x640 2 Type feuilles, 11 leavess, 2 ligneuxs, 4 phyllotaxies, 12.7ms\n",
            "image 28/111 /content/drive/MyDrive/deeplearning/yolov5/runs/DLProject-6/test/images/convolvulaceae077_jpg.rf.beb1ccfca85069d35538f4d3ed8b9501.jpg: 640x640 2 Type feuilles, 5 leavess, 1 ligneux, 12.8ms\n",
            "image 29/111 /content/drive/MyDrive/deeplearning/yolov5/runs/DLProject-6/test/images/convolvulaceae078_jpg.rf.50aae51424b0bb53130413fede67f647.jpg: 640x640 1 Type feuille, 1 leaves, 2 ligneuxs, 12.9ms\n",
            "image 30/111 /content/drive/MyDrive/deeplearning/yolov5/runs/DLProject-6/test/images/convolvulaceae079_jpg.rf.3a6d4c0cc3ec872a4441e5b8f6f8bb4c.jpg: 640x640 1 Type feuille, 3 leavess, 2 ligneuxs, 12.8ms\n",
            "image 31/111 /content/drive/MyDrive/deeplearning/yolov5/runs/DLProject-6/test/images/convolvulaceae080_jpg.rf.e8aa6457ae94bf2f7ecd4e6ba014cd0f.jpg: 640x640 1 Type feuille, 3 leavess, 1 ligneux, 1 phyllotaxie, 12.8ms\n",
            "image 32/111 /content/drive/MyDrive/deeplearning/yolov5/runs/DLProject-6/test/images/desmodium071_jpg.rf.da9a1c18ac72fce6fd83894369eeb96d.jpg: 640x640 1 Type feuille, 1 leaves, 1 ligneux, 2 phyllotaxies, 12.8ms\n",
            "image 33/111 /content/drive/MyDrive/deeplearning/yolov5/runs/DLProject-6/test/images/desmodium072_jpg.rf.95a37accc476516a9dba4d768314016c.jpg: 640x640 1 Type feuille, 2 leavess, 2 ligneuxs, 12.8ms\n",
            "image 34/111 /content/drive/MyDrive/deeplearning/yolov5/runs/DLProject-6/test/images/desmodium073_jpg.rf.4bff4694d3db12f5f34496ef61d84008.jpg: 640x640 3 Type feuilles, 5 leavess, 1 ligneux, 12.7ms\n",
            "image 35/111 /content/drive/MyDrive/deeplearning/yolov5/runs/DLProject-6/test/images/desmodium074_jpg.rf.f0336d109c4f921530d1dfe04a08b3d4.jpg: 640x640 1 Type feuille, 3 leavess, 2 ligneuxs, 1 phyllotaxie, 12.7ms\n",
            "image 36/111 /content/drive/MyDrive/deeplearning/yolov5/runs/DLProject-6/test/images/desmodium075_jpg.rf.215f1c9eeea290521d7ec700dc1a0014.jpg: 640x640 1 Type feuille, 4 leavess, 3 ligneuxs, 12.7ms\n",
            "image 37/111 /content/drive/MyDrive/deeplearning/yolov5/runs/DLProject-6/test/images/desmodium076_jpg.rf.172e8912459dcebedaf3bb9853ab2032.jpg: 640x640 1 Type feuille, 4 leavess, 1 ligneux, 12.7ms\n",
            "image 38/111 /content/drive/MyDrive/deeplearning/yolov5/runs/DLProject-6/test/images/desmodium077_jpg.rf.5ee47405c8fc4eb7be417217319685f8.jpg: 640x640 1 Type feuille, 3 leavess, 1 ligneux, 12.7ms\n",
            "image 39/111 /content/drive/MyDrive/deeplearning/yolov5/runs/DLProject-6/test/images/desmodium078_jpg.rf.2738bec17ad74f7f28a56ef9afa011d7.jpg: 640x640 1 Type feuille, 3 leavess, 2 ligneuxs, 2 phyllotaxies, 12.8ms\n",
            "image 40/111 /content/drive/MyDrive/deeplearning/yolov5/runs/DLProject-6/test/images/desmodium079_jpg.rf.ec7809065e53f80c6134ece07487585f.jpg: 640x640 2 Type feuilles, 4 leavess, 2 ligneuxs, 1 phyllotaxie, 12.7ms\n",
            "image 41/111 /content/drive/MyDrive/deeplearning/yolov5/runs/DLProject-6/test/images/desmodium080_jpg.rf.1260e19dad706c9aec20bb9c5ad738cc.jpg: 640x640 1 Type feuille, 7 leavess, 3 ligneuxs, 2 phyllotaxies, 12.7ms\n",
            "image 42/111 /content/drive/MyDrive/deeplearning/yolov5/runs/DLProject-6/test/images/eugenia071_jpg.rf.2b1fc6decbd8f5e5eeae4777dd06cd9e.jpg: 640x640 1 Type feuille, 4 leavess, 2 ligneuxs, 12.7ms\n",
            "image 43/111 /content/drive/MyDrive/deeplearning/yolov5/runs/DLProject-6/test/images/eugenia072_jpg.rf.8235a4949cc83936caccdd64ec443386.jpg: 640x640 1 Type feuille, 2 leavess, 1 ligneux, 12.7ms\n",
            "image 44/111 /content/drive/MyDrive/deeplearning/yolov5/runs/DLProject-6/test/images/eugenia073_jpg.rf.f04611f3ce5871ab995fa6c174e66d34.jpg: 640x640 1 Type feuille, 3 leavess, 1 ligneux, 15.5ms\n",
            "image 45/111 /content/drive/MyDrive/deeplearning/yolov5/runs/DLProject-6/test/images/eugenia074_jpg.rf.41ee992bbc70ff711a50a3bedccf765b.jpg: 640x640 1 Type feuille, 7 leavess, 1 ligneux, 1 phyllotaxie, 12.7ms\n",
            "image 46/111 /content/drive/MyDrive/deeplearning/yolov5/runs/DLProject-6/test/images/eugenia075_jpg.rf.f7a29c66da8ffe995bc10681addfbec9.jpg: 640x640 2 Type feuilles, 1 leaves, 1 ligneux, 2 phyllotaxies, 12.7ms\n",
            "image 47/111 /content/drive/MyDrive/deeplearning/yolov5/runs/DLProject-6/test/images/eugenia076_jpg.rf.8f3d0753bcbdacf59d87702023ea953a.jpg: 640x640 2 Type feuilles, 4 leavess, 1 ligneux, 12.7ms\n",
            "image 48/111 /content/drive/MyDrive/deeplearning/yolov5/runs/DLProject-6/test/images/eugenia077_jpg.rf.306273536b338c73ae35067851c51d87.jpg: 640x640 1 Type feuille, 2 leavess, 1 ligneux, 12.7ms\n",
            "image 49/111 /content/drive/MyDrive/deeplearning/yolov5/runs/DLProject-6/test/images/eugenia078_jpg.rf.fdd58dc9ee57d59fd826e2707f4299b3.jpg: 640x640 1 Type feuille, 4 leavess, 2 ligneuxs, 2 phyllotaxies, 12.7ms\n",
            "image 50/111 /content/drive/MyDrive/deeplearning/yolov5/runs/DLProject-6/test/images/eugenia079_jpg.rf.ed9d0d0f739bdec587d053d80b288e98.jpg: 640x640 1 Type feuille, 3 leavess, 2 ligneuxs, 12.7ms\n",
            "image 51/111 /content/drive/MyDrive/deeplearning/yolov5/runs/DLProject-6/test/images/eugenia080_jpg.rf.e4ff60ff8132a2cce318aac58d178bb5.jpg: 640x640 1 Type feuille, 4 leavess, 1 ligneux, 12.7ms\n",
            "image 52/111 /content/drive/MyDrive/deeplearning/yolov5/runs/DLProject-6/test/images/laurus071_jpg.rf.b08f7fe3e139c6891fb980027081e8ab.jpg: 640x640 1 Type feuille, 1 leaves, 1 ligneux, 12.7ms\n",
            "image 53/111 /content/drive/MyDrive/deeplearning/yolov5/runs/DLProject-6/test/images/laurus072_jpg.rf.126ad89c49a3d9392a84ed9ed4279757.jpg: 640x640 1 Type feuille, 3 leavess, 1 ligneux, 1 phyllotaxie, 12.7ms\n",
            "image 54/111 /content/drive/MyDrive/deeplearning/yolov5/runs/DLProject-6/test/images/laurus073_jpg.rf.f988b2c7ed675cf131cbdf76a89cbe95.jpg: 640x640 1 Type feuille, 5 leavess, 1 ligneux, 12.7ms\n",
            "image 55/111 /content/drive/MyDrive/deeplearning/yolov5/runs/DLProject-6/test/images/laurus074_jpg.rf.1851e4e76a32885856700331ef23a6d2.jpg: 640x640 1 Type feuille, 1 ligneux, 12.7ms\n",
            "image 56/111 /content/drive/MyDrive/deeplearning/yolov5/runs/DLProject-6/test/images/laurus075_jpg.rf.865c572b94375fc77278d91dfc212f66.jpg: 640x640 2 Type feuilles, 2 leavess, 1 ligneux, 2 phyllotaxies, 12.7ms\n",
            "image 57/111 /content/drive/MyDrive/deeplearning/yolov5/runs/DLProject-6/test/images/laurus076_jpg.rf.71cbc47a6b64aff70cacda029c18f129.jpg: 640x640 1 Type feuille, 2 ligneuxs, 12.7ms\n",
            "image 58/111 /content/drive/MyDrive/deeplearning/yolov5/runs/DLProject-6/test/images/laurus077_jpg.rf.705eb92deb55583a20c669b7ea6f17ea.jpg: 640x640 1 Type feuille, 4 leavess, 2 ligneuxs, 12.7ms\n",
            "image 59/111 /content/drive/MyDrive/deeplearning/yolov5/runs/DLProject-6/test/images/laurus078_jpg.rf.0590b1cb77ead157fa2ed0fbc3fbf08e.jpg: 640x640 1 Type feuille, 4 leavess, 1 ligneux, 2 phyllotaxies, 12.7ms\n",
            "image 60/111 /content/drive/MyDrive/deeplearning/yolov5/runs/DLProject-6/test/images/laurus079_jpg.rf.839440a5a9471375bb340bd799e63706.jpg: 640x640 1 Type feuille, 3 leavess, 1 ligneux, 12.7ms\n",
            "image 61/111 /content/drive/MyDrive/deeplearning/yolov5/runs/DLProject-6/test/images/laurus080_jpg.rf.cf082feaf2a6e4052f485bda9343351e.jpg: 640x640 2 Type feuilles, 2 leavess, 2 ligneuxs, 1 phyllotaxie, 12.7ms\n",
            "image 62/111 /content/drive/MyDrive/deeplearning/yolov5/runs/DLProject-6/test/images/litsea071_jpg.rf.0a3918e69e7e4df3079cf07343584ae6.jpg: 640x640 1 Type feuille, 2 leavess, 1 ligneux, 1 phyllotaxie, 12.7ms\n",
            "image 63/111 /content/drive/MyDrive/deeplearning/yolov5/runs/DLProject-6/test/images/litsea072_jpg.rf.9f8b901386b33fe06b2524675d57c87d.jpg: 640x640 1 Type feuille, 4 leavess, 1 ligneux, 1 phyllotaxie, 12.7ms\n",
            "image 64/111 /content/drive/MyDrive/deeplearning/yolov5/runs/DLProject-6/test/images/litsea073_jpg.rf.629ce1b24394c9d086e43f6054316e95.jpg: 640x640 2 Type feuilles, 5 leavess, 2 ligneuxs, 12.7ms\n",
            "image 65/111 /content/drive/MyDrive/deeplearning/yolov5/runs/DLProject-6/test/images/litsea074_jpg.rf.448afa2777749c910617e6f4fe2f4c19.jpg: 640x640 1 Type feuille, 5 leavess, 1 ligneux, 1 phyllotaxie, 12.7ms\n",
            "image 66/111 /content/drive/MyDrive/deeplearning/yolov5/runs/DLProject-6/test/images/litsea075_jpg.rf.d3b390be6269528f9791a87d9857a316.jpg: 640x640 1 Type feuille, 4 leavess, 1 ligneux, 2 phyllotaxies, 12.7ms\n",
            "image 67/111 /content/drive/MyDrive/deeplearning/yolov5/runs/DLProject-6/test/images/litsea076_jpg.rf.f160f3d2c5ade439deb9799af1f78744.jpg: 640x640 1 Type feuille, 5 leavess, 1 ligneux, 2 phyllotaxies, 12.7ms\n",
            "image 68/111 /content/drive/MyDrive/deeplearning/yolov5/runs/DLProject-6/test/images/litsea077_jpg.rf.87fd689baafe475cf3a2a696307e19d4.jpg: 640x640 1 Type feuille, 3 leavess, 1 ligneux, 16.0ms\n",
            "image 69/111 /content/drive/MyDrive/deeplearning/yolov5/runs/DLProject-6/test/images/litsea078_jpg.rf.1c75fbee2a3f58026fcdbdbfe339d800.jpg: 640x640 1 Type feuille, 3 leavess, 2 ligneuxs, 12.7ms\n",
            "image 70/111 /content/drive/MyDrive/deeplearning/yolov5/runs/DLProject-6/test/images/litsea079_jpg.rf.b0aa59c85c6488f6310011e90b546ec0.jpg: 640x640 1 Type feuille, 5 leavess, 1 ligneux, 12.7ms\n",
            "image 71/111 /content/drive/MyDrive/deeplearning/yolov5/runs/DLProject-6/test/images/litsea080_jpg.rf.80e3a9146c82e6566e3e3a50e78c9e04.jpg: 640x640 1 Type feuille, 3 leavess, 1 ligneux, 12.7ms\n",
            "image 72/111 /content/drive/MyDrive/deeplearning/yolov5/runs/DLProject-6/test/images/magnolia071_jpg.rf.cfc15a2050904bf4b357de8872e8c8a8.jpg: 640x640 1 Type feuille, 9 leavess, 1 ligneux, 1 phyllotaxie, 12.8ms\n",
            "image 73/111 /content/drive/MyDrive/deeplearning/yolov5/runs/DLProject-6/test/images/magnolia072_jpg.rf.2d3cad6c9de0c57f7de22a367fcaca47.jpg: 640x640 1 Type feuille, 3 leavess, 1 ligneux, 12.7ms\n",
            "image 74/111 /content/drive/MyDrive/deeplearning/yolov5/runs/DLProject-6/test/images/magnolia073_jpg.rf.d8707cd48711968ed98dfe6fd0b3f065.jpg: 640x640 1 Type feuille, 3 leavess, 1 ligneux, 12.7ms\n",
            "image 75/111 /content/drive/MyDrive/deeplearning/yolov5/runs/DLProject-6/test/images/magnolia074_jpg.rf.6b447b2075793cc90d589ef34817d2fe.jpg: 640x640 1 Type feuille, 2 leavess, 1 ligneux, 12.7ms\n",
            "image 76/111 /content/drive/MyDrive/deeplearning/yolov5/runs/DLProject-6/test/images/magnolia075_jpg.rf.5391364b667fe9ac65a932c4ec15004c.jpg: 640x640 1 Type feuille, 3 leavess, 1 ligneux, 1 phyllotaxie, 12.7ms\n",
            "image 77/111 /content/drive/MyDrive/deeplearning/yolov5/runs/DLProject-6/test/images/magnolia076_jpg.rf.e8dc56afceb47f733460856c4885025e.jpg: 640x640 1 Type feuille, 4 leavess, 2 ligneuxs, 12.7ms\n",
            "image 78/111 /content/drive/MyDrive/deeplearning/yolov5/runs/DLProject-6/test/images/magnolia077_jpg.rf.cb6c6d6c40256035677f749d7b54c516.jpg: 640x640 2 Type feuilles, 3 leavess, 1 ligneux, 12.7ms\n",
            "image 79/111 /content/drive/MyDrive/deeplearning/yolov5/runs/DLProject-6/test/images/magnolia078_jpg.rf.8abc34ded222086463444b4c81b39aa3.jpg: 640x640 1 Type feuille, 3 leavess, 2 ligneuxs, 12.8ms\n",
            "image 80/111 /content/drive/MyDrive/deeplearning/yolov5/runs/DLProject-6/test/images/magnolia079_jpg.rf.481be9025d9423232483998c30189ab8.jpg: 640x640 1 Type feuille, 2 leavess, 1 ligneux, 12.7ms\n",
            "image 81/111 /content/drive/MyDrive/deeplearning/yolov5/runs/DLProject-6/test/images/magnolia080_jpg.rf.4328d06ab3b5d4dadd76f840cd2b8077.jpg: 640x640 1 Type feuille, 2 leavess, 2 ligneuxs, 12.8ms\n",
            "image 82/111 /content/drive/MyDrive/deeplearning/yolov5/runs/DLProject-6/test/images/monimiaceae071_jpg.rf.9b6b996d3d6d7291399bf77df097570d.jpg: 640x640 1 Type feuille, 1 ligneux, 12.7ms\n",
            "image 83/111 /content/drive/MyDrive/deeplearning/yolov5/runs/DLProject-6/test/images/monimiaceae072_jpg.rf.568096a2f6240b13b7a76ca75d379dc9.jpg: 640x640 1 Type feuille, 1 ligneux, 1 phyllotaxie, 12.7ms\n",
            "image 84/111 /content/drive/MyDrive/deeplearning/yolov5/runs/DLProject-6/test/images/monimiaceae073_jpg.rf.3b77ede29147fc0cb4733e1697b25b69.jpg: 640x640 1 Type feuille, 6 leavess, 1 ligneux, 2 phyllotaxies, 12.7ms\n",
            "image 85/111 /content/drive/MyDrive/deeplearning/yolov5/runs/DLProject-6/test/images/monimiaceae074_jpg.rf.8c6eb4459233f4b4eb19165230928339.jpg: 640x640 1 Type feuille, 3 leavess, 1 ligneux, 1 phyllotaxie, 12.7ms\n",
            "image 86/111 /content/drive/MyDrive/deeplearning/yolov5/runs/DLProject-6/test/images/monimiaceae075_jpg.rf.a7f4ac0f35f9d7b3a19f3c1116c9f93e.jpg: 640x640 1 Type feuille, 2 leavess, 1 ligneux, 12.7ms\n",
            "image 87/111 /content/drive/MyDrive/deeplearning/yolov5/runs/DLProject-6/test/images/monimiaceae076_jpg.rf.3051f02f210874a86538e4a91241dd7d.jpg: 640x640 1 Type feuille, 3 leavess, 1 ligneux, 1 phyllotaxie, 12.7ms\n",
            "image 88/111 /content/drive/MyDrive/deeplearning/yolov5/runs/DLProject-6/test/images/monimiaceae077_jpg.rf.07686515413decb05b634d00aa5de58e.jpg: 640x640 1 Type feuille, 4 leavess, 1 ligneux, 12.7ms\n",
            "image 89/111 /content/drive/MyDrive/deeplearning/yolov5/runs/DLProject-6/test/images/monimiaceae078_jpg.rf.33b2fbbf97b7c6f5b932702ff2a73fdc.jpg: 640x640 1 Type feuille, 3 leavess, 1 ligneux, 1 phyllotaxie, 14.0ms\n",
            "image 90/111 /content/drive/MyDrive/deeplearning/yolov5/runs/DLProject-6/test/images/monimiaceae079_jpg.rf.1a90fe32dfe6a52b9951f7b0edcf83ef.jpg: 640x640 1 Type feuille, 2 leavess, 2 ligneuxs, 1 phyllotaxie, 12.7ms\n",
            "image 91/111 /content/drive/MyDrive/deeplearning/yolov5/runs/DLProject-6/test/images/monimiaceae080_jpg.rf.e078fad6025d9bbd3ae1501d70173cee.jpg: 640x640 1 Type feuille, 4 leavess, 2 ligneuxs, 12.7ms\n",
            "image 92/111 /content/drive/MyDrive/deeplearning/yolov5/runs/DLProject-6/test/images/rubus071_jpg.rf.eeb5621dc9df43cec0cd63df2b7154be.jpg: 640x640 3 Type feuilles, 4 leavess, 2 ligneuxs, 3 phyllotaxies, 12.7ms\n",
            "image 93/111 /content/drive/MyDrive/deeplearning/yolov5/runs/DLProject-6/test/images/rubus072_jpg.rf.dfdacad28b0b3ff8f5a86cb808fd6c56.jpg: 640x640 1 Type feuille, 4 leavess, 1 ligneux, 1 phyllotaxie, 12.7ms\n",
            "image 94/111 /content/drive/MyDrive/deeplearning/yolov5/runs/DLProject-6/test/images/rubus073_jpg.rf.db337047003072ce509ccc7c248daa19.jpg: 640x640 1 Type feuille, 10 leavess, 3 ligneuxs, 3 phyllotaxies, 12.8ms\n",
            "image 95/111 /content/drive/MyDrive/deeplearning/yolov5/runs/DLProject-6/test/images/rubus074_jpg.rf.9505808e2b0f202d9ee9f01034f75164.jpg: 640x640 2 Type feuilles, 4 leavess, 2 ligneuxs, 2 phyllotaxies, 12.8ms\n",
            "image 96/111 /content/drive/MyDrive/deeplearning/yolov5/runs/DLProject-6/test/images/rubus075_jpg.rf.0258a2f9d97e83ece9066ceaaf8fed9b.jpg: 640x640 1 Type feuille, 12 leavess, 1 ligneux, 2 phyllotaxies, 12.7ms\n",
            "image 97/111 /content/drive/MyDrive/deeplearning/yolov5/runs/DLProject-6/test/images/rubus076_jpg.rf.2f9267a52b3d09b910979765843b76a1.jpg: 640x640 1 Type feuille, 7 leavess, 1 ligneux, 3 phyllotaxies, 12.7ms\n",
            "image 98/111 /content/drive/MyDrive/deeplearning/yolov5/runs/DLProject-6/test/images/rubus077_jpg.rf.6e629a3690bdd4062f99566998a8ff58.jpg: 640x640 1 Type feuille, 12 leavess, 2 ligneuxs, 2 phyllotaxies, 12.7ms\n",
            "image 99/111 /content/drive/MyDrive/deeplearning/yolov5/runs/DLProject-6/test/images/rubus078_jpg.rf.ae49a39d4491015219d2dbb1fdba51d9.jpg: 640x640 3 Type feuilles, 11 leavess, 2 ligneuxs, 6 phyllotaxies, 12.8ms\n",
            "image 100/111 /content/drive/MyDrive/deeplearning/yolov5/runs/DLProject-6/test/images/rubus079_jpg.rf.93a062887deac0327b49e59c5a160f24.jpg: 640x640 2 Type feuilles, 8 leavess, 2 ligneuxs, 1 phyllotaxie, 12.7ms\n",
            "image 101/111 /content/drive/MyDrive/deeplearning/yolov5/runs/DLProject-6/test/images/rubus080_jpg.rf.f01fa53d7682977e16bd39bdc1b70578.jpg: 640x640 1 Type feuille, 2 leavess, 5 ligneuxs, 1 phyllotaxie, 12.7ms\n",
            "image 102/111 /content/drive/MyDrive/deeplearning/yolov5/runs/DLProject-6/test/images/ulmus071_jpg.rf.1e3e64b5dd7111becef90ac12c948c78.jpg: 640x640 1 Type feuille, 5 leavess, 1 ligneux, 12.7ms\n",
            "image 103/111 /content/drive/MyDrive/deeplearning/yolov5/runs/DLProject-6/test/images/ulmus072_jpg.rf.1ad2c0ecd045ce16c9dc85f434528a42.jpg: 640x640 1 Type feuille, 10 leavess, 4 ligneuxs, 7 phyllotaxies, 12.7ms\n",
            "image 104/111 /content/drive/MyDrive/deeplearning/yolov5/runs/DLProject-6/test/images/ulmus073_jpg.rf.84678cd0b36d47fbe1288f0d179e3a0d.jpg: 640x640 1 Type feuille, 4 leavess, 1 ligneux, 4 phyllotaxies, 12.7ms\n",
            "image 105/111 /content/drive/MyDrive/deeplearning/yolov5/runs/DLProject-6/test/images/ulmus074_jpg.rf.680dece3014b7d7aa19fe4355686910f.jpg: 640x640 1 Type feuille, 2 leavess, 2 ligneuxs, 1 phyllotaxie, 12.7ms\n",
            "image 106/111 /content/drive/MyDrive/deeplearning/yolov5/runs/DLProject-6/test/images/ulmus075_jpg.rf.8c325802c848993f6677e102f572dd47.jpg: 640x640 2 Type feuilles, 5 leavess, 2 ligneuxs, 2 phyllotaxies, 12.7ms\n",
            "image 107/111 /content/drive/MyDrive/deeplearning/yolov5/runs/DLProject-6/test/images/ulmus076_jpg.rf.c7e59e9dff6e36fdc94b3826db00f308.jpg: 640x640 1 Type feuille, 6 leavess, 3 ligneuxs, 4 phyllotaxies, 12.7ms\n",
            "image 108/111 /content/drive/MyDrive/deeplearning/yolov5/runs/DLProject-6/test/images/ulmus077_jpg.rf.1229bd26f0215d0ad79f71dca4f7d96c.jpg: 640x640 1 Type feuille, 5 leavess, 2 ligneuxs, 1 phyllotaxie, 12.8ms\n",
            "image 109/111 /content/drive/MyDrive/deeplearning/yolov5/runs/DLProject-6/test/images/ulmus078_jpg.rf.12640432ca801a243c7b248adf2da234.jpg: 640x640 2 Type feuilles, 5 leavess, 1 ligneux, 12.7ms\n",
            "image 110/111 /content/drive/MyDrive/deeplearning/yolov5/runs/DLProject-6/test/images/ulmus079_jpg.rf.87ed8dd4c841a8fa3acafd9ea983a9a1.jpg: 640x640 1 Type feuille, 4 leavess, 1 ligneux, 1 phyllotaxie, 12.8ms\n",
            "image 111/111 /content/drive/MyDrive/deeplearning/yolov5/runs/DLProject-6/test/images/ulmus080_jpg.rf.7a79d96b46c4d69f4c2f2b823eb98aab.jpg: 640x640 2 Type feuilles, 2 leavess, 2 ligneuxs, 2 phyllotaxies, 12.7ms\n",
            "Speed: 0.5ms pre-process, 12.8ms inference, 1.0ms NMS per image at shape (1, 3, 640, 640)\n",
            "Results saved to \u001b[1mruns/detect/exp9\u001b[0m\n"
          ]
        }
      ],
      "source": [
        "!python detect.py --weights runs/train/exp20/weights/best.pt --img 640 --conf 0.1 --source {dataset.location}/train/images\n",
        "!python detect.py --weights runs/train/exp20/weights/best.pt --img 640 --conf 0.1 --source {dataset.location}/valid/images\n",
        "!python detect.py --weights runs/train/exp20/weights/best.pt --img 640 --conf 0.1 --source {dataset.location}/test/images"
      ]
    },
    {
      "cell_type": "markdown",
      "source": [
        "预测数据"
      ],
      "metadata": {
        "id": "I5LqrPFN40XL"
      }
    },
    {
      "cell_type": "code",
      "execution_count": null,
      "metadata": {
        "id": "AWo5Pqg_cdkp"
      },
      "outputs": [],
      "source": [
        "\n",
        "# import glob\n",
        "# from IPython.display import Image, display\n",
        "\n",
        "# for imageName in glob.glob('/content/drive/MyDrive/deeplearning/yolov5/runs/detect/exp/*.jpg'): #assuming JPG\n",
        "#     display(Image(filename=imageName))"
      ]
    },
    {
      "cell_type": "code",
      "execution_count": null,
      "metadata": {
        "id": "B3lH2HZzpig2"
      },
      "outputs": [],
      "source": [
        "# model = torch.hub.load('.', 'custom', path='runs/train/exp3/weights/best.pt', source='local')"
      ]
    },
    {
      "cell_type": "code",
      "execution_count": null,
      "metadata": {
        "id": "xd5seuIrpoDG"
      },
      "outputs": [],
      "source": [
        "# from PIL import Image\n",
        "# im1 = Image.open('DLProject-2/test/images/amborella082_jpg.rf.6aaa492309e4282ed42380cd7e6ed9fe.jpg')\n",
        "# imgs = [im1]"
      ]
    },
    {
      "cell_type": "code",
      "execution_count": null,
      "metadata": {
        "id": "-FYACMYcqNmW"
      },
      "outputs": [],
      "source": [
        "# results = model(imgs)"
      ]
    },
    {
      "cell_type": "code",
      "execution_count": null,
      "metadata": {
        "id": "ILnI7GdOqR1l"
      },
      "outputs": [],
      "source": [
        "# results.show()"
      ]
    },
    {
      "cell_type": "markdown",
      "metadata": {
        "id": "Ffa4wuRX4n54"
      },
      "source": [
        "根据叶子识别"
      ]
    },
    {
      "cell_type": "code",
      "execution_count": 6,
      "metadata": {
        "colab": {
          "base_uri": "https://localhost:8080/"
        },
        "id": "RJNijdZK4sTa",
        "outputId": "cb1f97ac-2c89-486e-9686-cec9561dc573"
      },
      "outputs": [
        {
          "output_type": "stream",
          "name": "stdout",
          "text": [
            "Looking in indexes: https://pypi.org/simple, https://us-python.pkg.dev/colab-wheels/public/simple/\n",
            "Requirement already satisfied: tensorflow in /usr/local/lib/python3.8/dist-packages (2.11.0)\n",
            "Requirement already satisfied: setuptools in /usr/local/lib/python3.8/dist-packages (from tensorflow) (57.4.0)\n",
            "Requirement already satisfied: opt-einsum>=2.3.2 in /usr/local/lib/python3.8/dist-packages (from tensorflow) (3.3.0)\n",
            "Requirement already satisfied: tensorboard<2.12,>=2.11 in /usr/local/lib/python3.8/dist-packages (from tensorflow) (2.11.0)\n",
            "Requirement already satisfied: tensorflow-estimator<2.12,>=2.11.0 in /usr/local/lib/python3.8/dist-packages (from tensorflow) (2.11.0)\n",
            "Requirement already satisfied: gast<=0.4.0,>=0.2.1 in /usr/local/lib/python3.8/dist-packages (from tensorflow) (0.4.0)\n",
            "Requirement already satisfied: astunparse>=1.6.0 in /usr/local/lib/python3.8/dist-packages (from tensorflow) (1.6.3)\n",
            "Requirement already satisfied: libclang>=13.0.0 in /usr/local/lib/python3.8/dist-packages (from tensorflow) (14.0.6)\n",
            "Requirement already satisfied: termcolor>=1.1.0 in /usr/local/lib/python3.8/dist-packages (from tensorflow) (2.1.1)\n",
            "Requirement already satisfied: h5py>=2.9.0 in /usr/local/lib/python3.8/dist-packages (from tensorflow) (3.1.0)\n",
            "Requirement already satisfied: grpcio<2.0,>=1.24.3 in /usr/local/lib/python3.8/dist-packages (from tensorflow) (1.50.0)\n",
            "Requirement already satisfied: packaging in /usr/local/lib/python3.8/dist-packages (from tensorflow) (21.3)\n",
            "Requirement already satisfied: flatbuffers>=2.0 in /usr/local/lib/python3.8/dist-packages (from tensorflow) (22.11.23)\n",
            "Requirement already satisfied: six>=1.12.0 in /usr/local/lib/python3.8/dist-packages (from tensorflow) (1.15.0)\n",
            "Requirement already satisfied: absl-py>=1.0.0 in /usr/local/lib/python3.8/dist-packages (from tensorflow) (1.3.0)\n",
            "Requirement already satisfied: protobuf<3.20,>=3.9.2 in /usr/local/lib/python3.8/dist-packages (from tensorflow) (3.19.6)\n",
            "Requirement already satisfied: typing-extensions>=3.6.6 in /usr/local/lib/python3.8/dist-packages (from tensorflow) (4.1.1)\n",
            "Requirement already satisfied: google-pasta>=0.1.1 in /usr/local/lib/python3.8/dist-packages (from tensorflow) (0.2.0)\n",
            "Requirement already satisfied: wrapt>=1.11.0 in /usr/local/lib/python3.8/dist-packages (from tensorflow) (1.14.1)\n",
            "Requirement already satisfied: tensorflow-io-gcs-filesystem>=0.23.1 in /usr/local/lib/python3.8/dist-packages (from tensorflow) (0.28.0)\n",
            "Requirement already satisfied: keras<2.12,>=2.11.0 in /usr/local/lib/python3.8/dist-packages (from tensorflow) (2.11.0)\n",
            "Requirement already satisfied: numpy>=1.20 in /usr/local/lib/python3.8/dist-packages (from tensorflow) (1.21.6)\n",
            "Requirement already satisfied: wheel<1.0,>=0.23.0 in /usr/local/lib/python3.8/dist-packages (from astunparse>=1.6.0->tensorflow) (0.38.4)\n",
            "Requirement already satisfied: tensorboard-data-server<0.7.0,>=0.6.0 in /usr/local/lib/python3.8/dist-packages (from tensorboard<2.12,>=2.11->tensorflow) (0.6.1)\n",
            "Requirement already satisfied: werkzeug>=1.0.1 in /usr/local/lib/python3.8/dist-packages (from tensorboard<2.12,>=2.11->tensorflow) (1.0.1)\n",
            "Requirement already satisfied: markdown>=2.6.8 in /usr/local/lib/python3.8/dist-packages (from tensorboard<2.12,>=2.11->tensorflow) (3.4.1)\n",
            "Requirement already satisfied: google-auth-oauthlib<0.5,>=0.4.1 in /usr/local/lib/python3.8/dist-packages (from tensorboard<2.12,>=2.11->tensorflow) (0.4.6)\n",
            "Requirement already satisfied: tensorboard-plugin-wit>=1.6.0 in /usr/local/lib/python3.8/dist-packages (from tensorboard<2.12,>=2.11->tensorflow) (1.8.1)\n",
            "Requirement already satisfied: google-auth<3,>=1.6.3 in /usr/local/lib/python3.8/dist-packages (from tensorboard<2.12,>=2.11->tensorflow) (2.14.1)\n",
            "Requirement already satisfied: requests<3,>=2.21.0 in /usr/local/lib/python3.8/dist-packages (from tensorboard<2.12,>=2.11->tensorflow) (2.23.0)\n",
            "Requirement already satisfied: rsa<5,>=3.1.4 in /usr/local/lib/python3.8/dist-packages (from google-auth<3,>=1.6.3->tensorboard<2.12,>=2.11->tensorflow) (4.9)\n",
            "Requirement already satisfied: cachetools<6.0,>=2.0.0 in /usr/local/lib/python3.8/dist-packages (from google-auth<3,>=1.6.3->tensorboard<2.12,>=2.11->tensorflow) (5.2.0)\n",
            "Requirement already satisfied: pyasn1-modules>=0.2.1 in /usr/local/lib/python3.8/dist-packages (from google-auth<3,>=1.6.3->tensorboard<2.12,>=2.11->tensorflow) (0.2.8)\n",
            "Requirement already satisfied: requests-oauthlib>=0.7.0 in /usr/local/lib/python3.8/dist-packages (from google-auth-oauthlib<0.5,>=0.4.1->tensorboard<2.12,>=2.11->tensorflow) (1.3.1)\n",
            "Requirement already satisfied: importlib-metadata>=4.4 in /usr/local/lib/python3.8/dist-packages (from markdown>=2.6.8->tensorboard<2.12,>=2.11->tensorflow) (4.13.0)\n",
            "Requirement already satisfied: zipp>=0.5 in /usr/local/lib/python3.8/dist-packages (from importlib-metadata>=4.4->markdown>=2.6.8->tensorboard<2.12,>=2.11->tensorflow) (3.10.0)\n",
            "Requirement already satisfied: pyasn1<0.5.0,>=0.4.6 in /usr/local/lib/python3.8/dist-packages (from pyasn1-modules>=0.2.1->google-auth<3,>=1.6.3->tensorboard<2.12,>=2.11->tensorflow) (0.4.8)\n",
            "Requirement already satisfied: urllib3!=1.25.0,!=1.25.1,<1.26,>=1.21.1 in /usr/local/lib/python3.8/dist-packages (from requests<3,>=2.21.0->tensorboard<2.12,>=2.11->tensorflow) (1.24.3)\n",
            "Requirement already satisfied: certifi>=2017.4.17 in /usr/local/lib/python3.8/dist-packages (from requests<3,>=2.21.0->tensorboard<2.12,>=2.11->tensorflow) (2022.9.24)\n",
            "Requirement already satisfied: chardet<4,>=3.0.2 in /usr/local/lib/python3.8/dist-packages (from requests<3,>=2.21.0->tensorboard<2.12,>=2.11->tensorflow) (3.0.4)\n",
            "Requirement already satisfied: idna<3,>=2.5 in /usr/local/lib/python3.8/dist-packages (from requests<3,>=2.21.0->tensorboard<2.12,>=2.11->tensorflow) (2.10)\n",
            "Requirement already satisfied: oauthlib>=3.0.0 in /usr/local/lib/python3.8/dist-packages (from requests-oauthlib>=0.7.0->google-auth-oauthlib<0.5,>=0.4.1->tensorboard<2.12,>=2.11->tensorflow) (3.2.2)\n",
            "Requirement already satisfied: pyparsing!=3.0.5,>=2.0.2 in /usr/local/lib/python3.8/dist-packages (from packaging->tensorflow) (3.0.9)\n"
          ]
        }
      ],
      "source": [
        "!pip install --upgrade tensorflow"
      ]
    },
    {
      "cell_type": "code",
      "execution_count": 25,
      "metadata": {
        "id": "8eVqkGJm8T13"
      },
      "outputs": [],
      "source": [
        "import tensorflow as tf\n",
        "import cv2\n",
        "from matplotlib import pyplot as plt\n",
        "\n",
        "from tensorflow.keras import datasets, layers, optimizers, Sequential, metrics"
      ]
    },
    {
      "cell_type": "code",
      "source": [
        "model = Sequential([\n",
        "    # 核数，核尺寸，是否填充，激活函数\n",
        "    layers.Conv2D(16, kernel_size=[4, 4], padding=\"valid\", activation=tf.nn.relu),\n",
        "    layers.Conv2D(16, kernel_size=[4, 4], padding=\"valid\", activation=tf.nn.relu),\n",
        "    # 池化核，填充\n",
        "\n",
        "    layers.MaxPool2D(pool_size=[2, 2], strides=1, padding='valid'),\n",
        "    layers.Dropout(0.4),\n",
        "    layers.Flatten(),\n",
        "    layers.Dense(64, activation=tf.nn.relu),\n",
        "    layers.Dropout(0.4),\n",
        "    layers.Dense(2)\n",
        "])"
      ],
      "metadata": {
        "id": "1Ev3z4Ebkz3c"
      },
      "execution_count": 44,
      "outputs": []
    },
    {
      "cell_type": "code",
      "source": [
        "import os\n",
        "\n",
        "def read_directory(directory_name):\n",
        "    data=[]\n",
        "    for filename in os.listdir(r\"./\" + directory_name):\n",
        "        label=filename.split('0')[0].split('1')[0]\n",
        "        # img is used to store the image data\n",
        "        img = cv2.imread(directory_name + \"/\" + filename)\n",
        "        data.append((img,label))\n",
        "    return data\n",
        "def preprocess(data):\n",
        "    result=[]\n",
        "    for img in data:\n",
        "      resized = cv2.resize(img[0], dim, interpolation = cv2.INTER_AREA)\n",
        "      gray = cv2.cvtColor(resized,cv2.COLOR_RGB2GRAY)\n",
        "      result.append(gray)\n",
        "    return result\n"
      ],
      "metadata": {
        "id": "EyPUOiholS-b"
      },
      "execution_count": 21,
      "outputs": []
    },
    {
      "cell_type": "code",
      "source": [
        "%cd runs/detect"
      ],
      "metadata": {
        "colab": {
          "base_uri": "https://localhost:8080/"
        },
        "id": "RJyCxDrfnB7a",
        "outputId": "e5335130-ba70-4fb4-98e5-59ee6d9cb9fd"
      },
      "execution_count": 15,
      "outputs": [
        {
          "output_type": "stream",
          "name": "stdout",
          "text": [
            "/content/drive/MyDrive/deeplearning/yolov5/runs/detect\n"
          ]
        }
      ]
    },
    {
      "cell_type": "code",
      "execution_count": 20,
      "metadata": {
        "colab": {
          "base_uri": "https://localhost:8080/",
          "height": 426
        },
        "id": "ye7Wk9yS8WVj",
        "outputId": "d77932d7-f737-45d4-b431-58d6037c4479"
      },
      "outputs": [
        {
          "output_type": "error",
          "ename": "error",
          "evalue": "ignored",
          "traceback": [
            "\u001b[0;31m---------------------------------------------------------------------------\u001b[0m",
            "\u001b[0;31merror\u001b[0m                                     Traceback (most recent call last)",
            "\u001b[0;32m<ipython-input-20-15929b5a75e4>\u001b[0m in \u001b[0;36m<module>\u001b[0;34m\u001b[0m\n\u001b[1;32m      6\u001b[0m \u001b[0;31m# resize image\u001b[0m\u001b[0;34m\u001b[0m\u001b[0;34m\u001b[0m\u001b[0;34m\u001b[0m\u001b[0m\n\u001b[1;32m      7\u001b[0m \u001b[0;34m\u001b[0m\u001b[0m\n\u001b[0;32m----> 8\u001b[0;31m \u001b[0mtrain_set\u001b[0m\u001b[0;34m=\u001b[0m\u001b[0mpreprocess\u001b[0m\u001b[0;34m(\u001b[0m\u001b[0mtrain_set\u001b[0m\u001b[0;34m)\u001b[0m\u001b[0;34m\u001b[0m\u001b[0;34m\u001b[0m\u001b[0m\n\u001b[0m\u001b[1;32m      9\u001b[0m \u001b[0;32mfor\u001b[0m \u001b[0mimg\u001b[0m \u001b[0;32min\u001b[0m \u001b[0mtrain_set\u001b[0m\u001b[0;34m:\u001b[0m\u001b[0;34m\u001b[0m\u001b[0;34m\u001b[0m\u001b[0m\n\u001b[1;32m     10\u001b[0m   \u001b[0mplt\u001b[0m\u001b[0;34m.\u001b[0m\u001b[0mfigure\u001b[0m\u001b[0;34m(\u001b[0m\u001b[0;34m\"Image\"\u001b[0m\u001b[0;34m)\u001b[0m \u001b[0;31m# 图像窗口名称\u001b[0m\u001b[0;34m\u001b[0m\u001b[0;34m\u001b[0m\u001b[0m\n",
            "\u001b[0;32m<ipython-input-19-7d4543d8501c>\u001b[0m in \u001b[0;36mpreprocess\u001b[0;34m(data)\u001b[0m\n\u001b[1;32m     12\u001b[0m     \u001b[0mresult\u001b[0m\u001b[0;34m=\u001b[0m\u001b[0;34m[\u001b[0m\u001b[0;34m]\u001b[0m\u001b[0;34m\u001b[0m\u001b[0;34m\u001b[0m\u001b[0m\n\u001b[1;32m     13\u001b[0m     \u001b[0;32mfor\u001b[0m \u001b[0mimg\u001b[0m \u001b[0;32min\u001b[0m \u001b[0mdata\u001b[0m\u001b[0;34m:\u001b[0m\u001b[0;34m\u001b[0m\u001b[0;34m\u001b[0m\u001b[0m\n\u001b[0;32m---> 14\u001b[0;31m       \u001b[0mresized\u001b[0m \u001b[0;34m=\u001b[0m \u001b[0mcv2\u001b[0m\u001b[0;34m.\u001b[0m\u001b[0mresize\u001b[0m\u001b[0;34m(\u001b[0m\u001b[0mimg\u001b[0m\u001b[0;34m,\u001b[0m \u001b[0mdim\u001b[0m\u001b[0;34m,\u001b[0m \u001b[0minterpolation\u001b[0m \u001b[0;34m=\u001b[0m \u001b[0mcv2\u001b[0m\u001b[0;34m.\u001b[0m\u001b[0mINTER_AREA\u001b[0m\u001b[0;34m)\u001b[0m\u001b[0;34m\u001b[0m\u001b[0;34m\u001b[0m\u001b[0m\n\u001b[0m\u001b[1;32m     15\u001b[0m       \u001b[0mgray\u001b[0m \u001b[0;34m=\u001b[0m \u001b[0mcv2\u001b[0m\u001b[0;34m.\u001b[0m\u001b[0mcvtColor\u001b[0m\u001b[0;34m(\u001b[0m\u001b[0mresized\u001b[0m\u001b[0;34m,\u001b[0m\u001b[0mcv2\u001b[0m\u001b[0;34m.\u001b[0m\u001b[0mCOLOR_RGB2GRAY\u001b[0m\u001b[0;34m)\u001b[0m\u001b[0;34m\u001b[0m\u001b[0;34m\u001b[0m\u001b[0m\n\u001b[1;32m     16\u001b[0m       \u001b[0mresult\u001b[0m\u001b[0;34m.\u001b[0m\u001b[0mappend\u001b[0m\u001b[0;34m(\u001b[0m\u001b[0mgray\u001b[0m\u001b[0;34m)\u001b[0m\u001b[0;34m\u001b[0m\u001b[0;34m\u001b[0m\u001b[0m\n",
            "\u001b[0;31merror\u001b[0m: OpenCV(4.6.0) :-1: error: (-5:Bad argument) in function 'resize'\n> Overload resolution failed:\n>  - src is not a numerical tuple\n>  - Expected Ptr<cv::UMat> for argument 'src'\n"
          ]
        }
      ],
      "source": [
        "import matplotlib.pyplot as plt\n",
        "dim = (200, 200)\n",
        "train_set=read_directory('runs/detect/exp/crops/leaves')\n",
        "valid_set=read_directory('runs/detect/exp5/crops/leaves')\n",
        "test_set=read_directory('runs/detect/exp6/crops/leaves')\n",
        "# resize image\n"
      ]
    },
    {
      "cell_type": "code",
      "source": [
        "train_x=preprocess(train_set)\n",
        "x_test=preprocess(valid_set)\n",
        "# for img in train_x:\n",
        "#   plt.figure(\"Image\") # 图像窗口名称\n",
        "#   plt.imshow(img)\n",
        "#   plt.show()"
      ],
      "metadata": {
        "id": "rrs-dg2opXIP"
      },
      "execution_count": 38,
      "outputs": []
    },
    {
      "cell_type": "code",
      "source": [
        "data_dictionary={'amborella':{'leaves':0},'castarea':{'leaves':1},'convolvulaceae':{'leaves':0},'desmodium':{'leaves':0},'eugenia':{'leaves':0},'laurus':{'leaves':0},'litsea':{'leaves':0},'magnolia':{'leaves':0},'monimiaceae':{'leaves':0},'rubus':{'leaves':1},'ulmus':{'leaves':1}}"
      ],
      "metadata": {
        "id": "maGjbuEMxUVU"
      },
      "execution_count": 26,
      "outputs": []
    },
    {
      "cell_type": "markdown",
      "source": [
        "# **数据字典，叶子 lisse=0 dente=1 补全其它属性**"
      ],
      "metadata": {
        "id": "wB59Brk7y9Yq"
      }
    },
    {
      "cell_type": "code",
      "source": [
        "def check_diction(data_set,attribute):\n",
        "  result=[]\n",
        "  for data in data_set:\n",
        "    result.append(data_dictionary[data[1]][attribute])\n",
        "  return result"
      ],
      "metadata": {
        "id": "5zmC4zBuy6EO"
      },
      "execution_count": 33,
      "outputs": []
    },
    {
      "cell_type": "markdown",
      "source": [
        "查字典函数，给出数据集和要查询的属性，将属性数值化"
      ],
      "metadata": {
        "id": "vXd8ToDe0e7c"
      }
    },
    {
      "cell_type": "code",
      "source": [
        "y_train=check_diction(train_set,'leaves')\n",
        "y_test=check_diction(valid_set,'leaves')\n",
        "x_train=train_x"
      ],
      "metadata": {
        "id": "Qlldge8Oz760"
      },
      "execution_count": 39,
      "outputs": []
    },
    {
      "cell_type": "code",
      "source": [
        "x_train = tf.cast(x_train, dtype=tf.float32)\n",
        "x_test = tf.cast(x_test, dtype=tf.float32)\n",
        "x_train = tf.convert_to_tensor(x_train, dtype=tf.float32) / 255\n",
        "\n",
        "x_test = tf.convert_to_tensor(x_test, dtype=tf.float32) /255\n",
        "y_train = tf.convert_to_tensor(y_train, dtype=tf.int32)\n",
        "y_test = tf.convert_to_tensor(y_test, dtype=tf.int32)\n",
        "y_train = tf.one_hot(y_train, depth=2)\n",
        "y_test = tf.one_hot(y_test, depth=2)"
      ],
      "metadata": {
        "id": "j8RVZiLv0n_6"
      },
      "execution_count": 40,
      "outputs": []
    },
    {
      "cell_type": "markdown",
      "source": [
        "整理数据集"
      ],
      "metadata": {
        "id": "SMuGofjM4Qom"
      }
    },
    {
      "cell_type": "code",
      "source": [
        "model.build(input_shape=[None, 200, 200, 1])\n",
        "\n",
        "model.summary()\n",
        "\n",
        "model.compile(optimizer='adam',\n",
        "              loss=tf.losses.CategoricalCrossentropy(from_logits=True),\n",
        "              metrics=['accuracy'])\n",
        "\n",
        "train_db = tf.data.Dataset.from_tensor_slices((x_train, y_train))\n",
        "train_db = train_db.shuffle(10).batch(8)\n",
        "test_db = tf.data.Dataset.from_tensor_slices((x_test, y_test))\n",
        "test_db = train_db.batch(8)\n",
        "test_db = (x_test, y_test)"
      ],
      "metadata": {
        "colab": {
          "base_uri": "https://localhost:8080/"
        },
        "id": "UQBfo5pj1l-1",
        "outputId": "654d961c-71db-4dc8-c35c-5280b8d10e9b"
      },
      "execution_count": 47,
      "outputs": [
        {
          "output_type": "stream",
          "name": "stdout",
          "text": [
            "Model: \"sequential_1\"\n",
            "_________________________________________________________________\n",
            " Layer (type)                Output Shape              Param #   \n",
            "=================================================================\n",
            " conv2d_12 (Conv2D)          (None, 197, 197, 16)      272       \n",
            "                                                                 \n",
            " conv2d_13 (Conv2D)          (None, 194, 194, 16)      4112      \n",
            "                                                                 \n",
            " max_pooling2d_6 (MaxPooling  (None, 193, 193, 16)     0         \n",
            " 2D)                                                             \n",
            "                                                                 \n",
            " dropout_2 (Dropout)         (None, 193, 193, 16)      0         \n",
            "                                                                 \n",
            " flatten_1 (Flatten)         (None, 595984)            0         \n",
            "                                                                 \n",
            " dense_2 (Dense)             (None, 64)                38143040  \n",
            "                                                                 \n",
            " dropout_3 (Dropout)         (None, 64)                0         \n",
            "                                                                 \n",
            " dense_3 (Dense)             (None, 2)                 130       \n",
            "                                                                 \n",
            "=================================================================\n",
            "Total params: 38,147,554\n",
            "Trainable params: 38,147,554\n",
            "Non-trainable params: 0\n",
            "_________________________________________________________________\n"
          ]
        }
      ]
    },
    {
      "cell_type": "markdown",
      "source": [
        "建立模型"
      ],
      "metadata": {
        "id": "XJBGS0uC4S44"
      }
    },
    {
      "cell_type": "code",
      "source": [
        "history = model.fit(train_db, epochs=10, validation_data=test_db)\n",
        "plt.plot(history.history['accuracy'], label='accuracy')\n",
        "plt.plot(history.history['val_accuracy'], label='val_accuracy')\n",
        "plt.xlabel('Epoch')\n",
        "plt.ylabel('Accuracy')\n",
        "plt.ylim([0.5, 1])\n",
        "plt.legend(loc='lower right')\n",
        "plt.show()"
      ],
      "metadata": {
        "colab": {
          "base_uri": "https://localhost:8080/",
          "height": 648
        },
        "id": "inkJKLOz1q6V",
        "outputId": "7e158d59-7dc8-42f4-d04b-37a02ff58b74"
      },
      "execution_count": 49,
      "outputs": [
        {
          "output_type": "stream",
          "name": "stdout",
          "text": [
            "Epoch 1/10\n",
            "3/3 [==============================] - 0s 111ms/step - loss: 0.0633 - accuracy: 0.9444 - val_loss: 1.1749 - val_accuracy: 0.7273\n",
            "Epoch 2/10\n",
            "3/3 [==============================] - 0s 38ms/step - loss: 0.0098 - accuracy: 1.0000 - val_loss: 1.5042 - val_accuracy: 0.7273\n",
            "Epoch 3/10\n",
            "3/3 [==============================] - 0s 33ms/step - loss: 0.0037 - accuracy: 1.0000 - val_loss: 3.7744 - val_accuracy: 0.7273\n",
            "Epoch 4/10\n",
            "3/3 [==============================] - 0s 33ms/step - loss: 0.0028 - accuracy: 1.0000 - val_loss: 3.6454 - val_accuracy: 0.7273\n",
            "Epoch 5/10\n",
            "3/3 [==============================] - 0s 34ms/step - loss: 1.3908e-06 - accuracy: 1.0000 - val_loss: 3.6563 - val_accuracy: 0.7273\n",
            "Epoch 6/10\n",
            "3/3 [==============================] - 0s 32ms/step - loss: 8.1459e-07 - accuracy: 1.0000 - val_loss: 4.5955 - val_accuracy: 0.7273\n",
            "Epoch 7/10\n",
            "3/3 [==============================] - 0s 32ms/step - loss: 0.0058 - accuracy: 1.0000 - val_loss: 2.0581 - val_accuracy: 0.7273\n",
            "Epoch 8/10\n",
            "3/3 [==============================] - 0s 32ms/step - loss: 2.5463e-04 - accuracy: 1.0000 - val_loss: 1.3144 - val_accuracy: 0.7273\n",
            "Epoch 9/10\n",
            "3/3 [==============================] - 0s 38ms/step - loss: 0.0013 - accuracy: 1.0000 - val_loss: 1.4926 - val_accuracy: 0.7273\n",
            "Epoch 10/10\n",
            "3/3 [==============================] - 0s 35ms/step - loss: 3.2304e-04 - accuracy: 1.0000 - val_loss: 1.6737 - val_accuracy: 0.7273\n"
          ]
        },
        {
          "output_type": "display_data",
          "data": {
            "text/plain": [
              "<Figure size 432x288 with 1 Axes>"
            ],
            "image/png": "[encoded data removed]"
          },
          "metadata": {
            "needs_background": "light"
          }
        }
      ]
    },
    {
      "cell_type": "markdown",
      "source": [
        "训练"
      ],
      "metadata": {
        "id": "Jotw0Af54Vbi"
      }
    }
  ],
  "metadata": {
    "accelerator": "GPU",
    "colab": {
      "provenance": [],
      "authorship_tag": "ABX9TyPiQ8XJ5fTapmBkoZ0q9Wfh",
      "include_colab_link": true
    },
    "gpuClass": "standard",
    "kernelspec": {
      "display_name": "Python 3",
      "name": "python3"
    },
    "language_info": {
      "name": "python"
    }
  },
  "nbformat": 4,
  "nbformat_minor": 0
}